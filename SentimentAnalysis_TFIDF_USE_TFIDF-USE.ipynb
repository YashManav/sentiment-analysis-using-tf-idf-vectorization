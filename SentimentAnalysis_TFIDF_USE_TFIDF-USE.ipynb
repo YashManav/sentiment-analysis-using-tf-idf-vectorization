{
 "cells": [
  {
   "cell_type": "markdown",
   "id": "8c953482-bb8c-4da2-b7b7-1a0c4267df9d",
   "metadata": {},
   "source": [
    "## Sentiment Analysis on IMDB dataset"
   ]
  },
  {
   "cell_type": "markdown",
   "id": "6b821098-b0f9-41f7-b0a8-ea1d414229f4",
   "metadata": {},
   "source": [
    "#### Sentiment Analysis on IMDB dataset using different classifiers such as LinearSVM, LogisticRegression, NaiveBayes, XGBoost, RandomForest with different kind of embeddings such as TF-IDF, USE, and TF-IDF+USE"
   ]
  },
  {
   "cell_type": "markdown",
   "id": "1ea8b875-5c15-4c07-a1d4-30c93b6d75a2",
   "metadata": {},
   "source": [
    "#### Installing and importing libraries"
   ]
  },
  {
   "cell_type": "code",
   "execution_count": 1,
   "id": "bad7b628-a6ae-401f-aa78-a219dbfe06d2",
   "metadata": {},
   "outputs": [
    {
     "name": "stdout",
     "output_type": "stream",
     "text": [
      "Requirement already satisfied: nltk in d:\\anacondasetup\\lib\\site-packages (3.8.1)\n",
      "Collecting nltk\n",
      "  Downloading nltk-3.9.1-py3-none-any.whl.metadata (2.9 kB)\n",
      "Requirement already satisfied: click in d:\\anacondasetup\\lib\\site-packages (from nltk) (8.1.7)\n",
      "Requirement already satisfied: joblib in d:\\anacondasetup\\lib\\site-packages (from nltk) (1.4.2)\n",
      "Requirement already satisfied: regex>=2021.8.3 in d:\\anacondasetup\\lib\\site-packages (from nltk) (2023.10.3)\n",
      "Requirement already satisfied: tqdm in d:\\anacondasetup\\lib\\site-packages (from nltk) (4.66.4)\n",
      "Requirement already satisfied: colorama in c:\\users\\vaibhav manav\\appdata\\roaming\\python\\python312\\site-packages (from click->nltk) (0.4.6)\n",
      "Downloading nltk-3.9.1-py3-none-any.whl (1.5 MB)\n",
      "   ---------------------------------------- 0.0/1.5 MB ? eta -:--:--\n",
      "   ---------------------------------------- 0.0/1.5 MB ? eta -:--:--\n",
      "   ---------------------------------------- 0.0/1.5 MB ? eta -:--:--\n",
      "   ---------------------------------------- 0.0/1.5 MB ? eta -:--:--\n",
      "   - -------------------------------------- 0.0/1.5 MB 245.8 kB/s eta 0:00:06\n",
      "   -- ------------------------------------- 0.1/1.5 MB 381.3 kB/s eta 0:00:04\n",
      "   --- ------------------------------------ 0.1/1.5 MB 607.9 kB/s eta 0:00:03\n",
      "   ------- -------------------------------- 0.3/1.5 MB 983.9 kB/s eta 0:00:02\n",
      "   --------------- ------------------------ 0.6/1.5 MB 1.7 MB/s eta 0:00:01\n",
      "   ------------------------------- -------- 1.2/1.5 MB 3.1 MB/s eta 0:00:01\n",
      "   ---------------------------------------- 1.5/1.5 MB 3.7 MB/s eta 0:00:00\n",
      "Installing collected packages: nltk\n",
      "  Attempting uninstall: nltk\n",
      "    Found existing installation: nltk 3.8.1\n",
      "    Uninstalling nltk-3.8.1:\n",
      "      Successfully uninstalled nltk-3.8.1\n",
      "Successfully installed nltk-3.9.1\n",
      "Note: you may need to restart the kernel to use updated packages.\n"
     ]
    }
   ],
   "source": [
    "pip install -U nltk"
   ]
  },
  {
   "cell_type": "code",
   "execution_count": 1,
   "id": "99045f64-0402-474e-906f-46c096be3a15",
   "metadata": {
    "scrolled": true
   },
   "outputs": [],
   "source": [
    "#pip install tensorflow"
   ]
  },
  {
   "cell_type": "code",
   "execution_count": null,
   "id": "a6268605-9bf0-4376-a507-f2a99823c920",
   "metadata": {},
   "outputs": [],
   "source": [
    "pip install tensorflow_hub"
   ]
  },
  {
   "cell_type": "code",
   "execution_count": 2,
   "id": "9a441501-bbe7-4632-8fe8-fb03db387692",
   "metadata": {
    "scrolled": true
   },
   "outputs": [],
   "source": [
    "#pip install torch"
   ]
  },
  {
   "cell_type": "code",
   "execution_count": 3,
   "id": "a8c66c42-31d6-48a3-94e1-3106d79e7daa",
   "metadata": {
    "scrolled": true
   },
   "outputs": [],
   "source": [
    "#pip install xgboost"
   ]
  },
  {
   "cell_type": "code",
   "execution_count": 1,
   "id": "132e1e9e-c3da-43c8-90fe-3bd93595ad70",
   "metadata": {},
   "outputs": [],
   "source": [
    "import pandas as pd\n",
    "import numpy as np\n",
    "import nltk\n",
    "import re\n",
    "import torch\n",
    "from nltk.corpus import stopwords\n",
    "from nltk.tokenize import word_tokenize\n",
    "import tensorflow as tf\n",
    "import tensorflow_hub as hub\n",
    "from sklearn.model_selection import train_test_split\n",
    "from sklearn.feature_extraction.text import TfidfVectorizer\n",
    "import matplotlib.pyplot as plt"
   ]
  },
  {
   "cell_type": "code",
   "execution_count": 5,
   "id": "661c78ad-de7e-4ac8-9127-67409326149d",
   "metadata": {},
   "outputs": [
    {
     "name": "stderr",
     "output_type": "stream",
     "text": [
      "[nltk_data] Downloading package stopwords to\n",
      "[nltk_data]     C:\\Users\\REAL\\AppData\\Roaming\\nltk_data...\n",
      "[nltk_data]   Package stopwords is already up-to-date!\n",
      "[nltk_data] Downloading package words to\n",
      "[nltk_data]     C:\\Users\\REAL\\AppData\\Roaming\\nltk_data...\n",
      "[nltk_data]   Package words is already up-to-date!\n",
      "[nltk_data] Downloading package wordnet to\n",
      "[nltk_data]     C:\\Users\\REAL\\AppData\\Roaming\\nltk_data...\n",
      "[nltk_data]   Package wordnet is already up-to-date!\n"
     ]
    },
    {
     "data": {
      "text/plain": [
       "True"
      ]
     },
     "execution_count": 5,
     "metadata": {},
     "output_type": "execute_result"
    }
   ],
   "source": [
    "nltk.download('stopwords')\n",
    "nltk.download('words')\n",
    "nltk.download('wordnet')"
   ]
  },
  {
   "cell_type": "code",
   "execution_count": 6,
   "id": "55589dba-2bd9-465e-a9a6-37d5d7cfa854",
   "metadata": {},
   "outputs": [
    {
     "name": "stderr",
     "output_type": "stream",
     "text": [
      "[nltk_data] Downloading package punkt to\n",
      "[nltk_data]     C:\\Users\\REAL\\AppData\\Roaming\\nltk_data...\n",
      "[nltk_data]   Package punkt is already up-to-date!\n"
     ]
    },
    {
     "data": {
      "text/plain": [
       "True"
      ]
     },
     "execution_count": 6,
     "metadata": {},
     "output_type": "execute_result"
    }
   ],
   "source": [
    "nltk.download('punkt')"
   ]
  },
  {
   "cell_type": "code",
   "execution_count": 2,
   "id": "2fcdf9d5-9ae8-4c82-9d62-d748fe137af7",
   "metadata": {},
   "outputs": [],
   "source": [
    "stop_words = set(stopwords.words('english'))"
   ]
  },
  {
   "cell_type": "markdown",
   "id": "7c7f35bc-061d-483b-95fe-a02326ae4f04",
   "metadata": {},
   "source": [
    "#### To check is there any GPU available or not"
   ]
  },
  {
   "cell_type": "code",
   "execution_count": 3,
   "id": "cc78859d-0d55-4604-9762-97a9560676b4",
   "metadata": {},
   "outputs": [
    {
     "name": "stdout",
     "output_type": "stream",
     "text": [
      "GPU not available, CPU used\n"
     ]
    }
   ],
   "source": [
    "is_cuda = torch.cuda.is_available()\n",
    "\n",
    "# If we have a GPU available, we'll set our device to GPU. \n",
    "if is_cuda:\n",
    "    device = torch.device(\"cuda\")\n",
    "    print(\"GPU is available\")\n",
    "else:\n",
    "    device = torch.device(\"cpu\")\n",
    "    print(\"GPU not available, CPU used\")\n"
   ]
  },
  {
   "cell_type": "markdown",
   "id": "e875605b-c98f-482f-9d71-7e3b7f4075e6",
   "metadata": {},
   "source": [
    "#### Load the IMDB dataset for sentiment analysis between positive and negative reviews"
   ]
  },
  {
   "cell_type": "code",
   "execution_count": 4,
   "id": "c57b4ef4-0067-4215-8642-2f82d98c8f76",
   "metadata": {},
   "outputs": [
    {
     "data": {
      "text/html": [
       "<div>\n",
       "<style scoped>\n",
       "    .dataframe tbody tr th:only-of-type {\n",
       "        vertical-align: middle;\n",
       "    }\n",
       "\n",
       "    .dataframe tbody tr th {\n",
       "        vertical-align: top;\n",
       "    }\n",
       "\n",
       "    .dataframe thead th {\n",
       "        text-align: right;\n",
       "    }\n",
       "</style>\n",
       "<table border=\"1\" class=\"dataframe\">\n",
       "  <thead>\n",
       "    <tr style=\"text-align: right;\">\n",
       "      <th></th>\n",
       "      <th>review</th>\n",
       "      <th>sentiment</th>\n",
       "    </tr>\n",
       "  </thead>\n",
       "  <tbody>\n",
       "    <tr>\n",
       "      <th>0</th>\n",
       "      <td>Blue Monkey (1987) or 'Invasion of the BodySuc...</td>\n",
       "      <td>negative</td>\n",
       "    </tr>\n",
       "    <tr>\n",
       "      <th>1</th>\n",
       "      <td>We rented the DVD hoping for a good western. T...</td>\n",
       "      <td>negative</td>\n",
       "    </tr>\n",
       "    <tr>\n",
       "      <th>2</th>\n",
       "      <td>This pile of sh!t is tied in my book as the wo...</td>\n",
       "      <td>negative</td>\n",
       "    </tr>\n",
       "    <tr>\n",
       "      <th>3</th>\n",
       "      <td>One of the worst movies I ever saw. My only th...</td>\n",
       "      <td>negative</td>\n",
       "    </tr>\n",
       "    <tr>\n",
       "      <th>4</th>\n",
       "      <td>Any film with a title as ridiculous as \"The Ba...</td>\n",
       "      <td>negative</td>\n",
       "    </tr>\n",
       "    <tr>\n",
       "      <th>...</th>\n",
       "      <td>...</td>\n",
       "      <td>...</td>\n",
       "    </tr>\n",
       "    <tr>\n",
       "      <th>49995</th>\n",
       "      <td>This has to be the all time best computer anim...</td>\n",
       "      <td>positive</td>\n",
       "    </tr>\n",
       "    <tr>\n",
       "      <th>49996</th>\n",
       "      <td>Personally, I think Kevin Spacey is one of the...</td>\n",
       "      <td>positive</td>\n",
       "    </tr>\n",
       "    <tr>\n",
       "      <th>49997</th>\n",
       "      <td>This whirling movie looks more like a combinat...</td>\n",
       "      <td>negative</td>\n",
       "    </tr>\n",
       "    <tr>\n",
       "      <th>49998</th>\n",
       "      <td>I cannot believe it has been 25 yrs since I fi...</td>\n",
       "      <td>positive</td>\n",
       "    </tr>\n",
       "    <tr>\n",
       "      <th>49999</th>\n",
       "      <td>A killer, cannibal rapist is killed by a craze...</td>\n",
       "      <td>negative</td>\n",
       "    </tr>\n",
       "  </tbody>\n",
       "</table>\n",
       "<p>50000 rows × 2 columns</p>\n",
       "</div>"
      ],
      "text/plain": [
       "                                                  review sentiment\n",
       "0      Blue Monkey (1987) or 'Invasion of the BodySuc...  negative\n",
       "1      We rented the DVD hoping for a good western. T...  negative\n",
       "2      This pile of sh!t is tied in my book as the wo...  negative\n",
       "3      One of the worst movies I ever saw. My only th...  negative\n",
       "4      Any film with a title as ridiculous as \"The Ba...  negative\n",
       "...                                                  ...       ...\n",
       "49995  This has to be the all time best computer anim...  positive\n",
       "49996  Personally, I think Kevin Spacey is one of the...  positive\n",
       "49997  This whirling movie looks more like a combinat...  negative\n",
       "49998  I cannot believe it has been 25 yrs since I fi...  positive\n",
       "49999  A killer, cannibal rapist is killed by a craze...  negative\n",
       "\n",
       "[50000 rows x 2 columns]"
      ]
     },
     "execution_count": 4,
     "metadata": {},
     "output_type": "execute_result"
    }
   ],
   "source": [
    "df = pd.read_csv('IMDB Dataset.csv')\n",
    "df = df.sample(frac=1).reset_index(drop=True)\n",
    "df"
   ]
  },
  {
   "cell_type": "markdown",
   "id": "e8f40f61-c36a-4271-b8a0-9f99dcf3702e",
   "metadata": {},
   "source": [
    "#### Exploratory Data Analysis for IMDB dataset"
   ]
  },
  {
   "cell_type": "code",
   "execution_count": 5,
   "id": "d59fa748-8d70-4ccb-bb29-581fb35f3b09",
   "metadata": {},
   "outputs": [],
   "source": [
    "class EDA():\n",
    "    def get_length_dist(self,data):\n",
    "        rev_len = [len(i) for i in data]\n",
    "        pd.Series(rev_len).hist()\n",
    "        plt.title('Number of types of commets')\n",
    "        plt.xlabel('length')\n",
    "        plt.ylabel('number')\n",
    "        plt.show()\n",
    "        print(pd.Series(rev_len).describe())\n",
    "    def get_class_dist(self,df):\n",
    "        df['sentiment'].replace({1:'positive',0:'negative'}).value_counts().plot(kind='bar',figsize=(7,4))\n",
    "        plt.title('Number of types')\n",
    "        plt.xlabel('Comment_type')\n",
    "        plt.ylabel('number')\n",
    "        plt.show()\n"
   ]
  },
  {
   "cell_type": "code",
   "execution_count": 6,
   "id": "a927cbb0-0817-4d3d-befc-e15d4bf2d3f7",
   "metadata": {},
   "outputs": [
    {
     "data": {
      "image/png": "[encoded data removed]",
      "text/plain": [
       "<Figure size 640x480 with 1 Axes>"
      ]
     },
     "metadata": {},
     "output_type": "display_data"
    },
    {
     "name": "stdout",
     "output_type": "stream",
     "text": [
      "count    50000.000000\n",
      "mean      1309.431020\n",
      "std        989.728014\n",
      "min         32.000000\n",
      "25%        699.000000\n",
      "50%        970.000000\n",
      "75%       1590.250000\n",
      "max      13704.000000\n",
      "dtype: float64\n"
     ]
    },
    {
     "data": {
      "image/png": "[encoded data removed]",
      "text/plain": [
       "<Figure size 700x400 with 1 Axes>"
      ]
     },
     "metadata": {},
     "output_type": "display_data"
    }
   ],
   "source": [
    "eda = EDA()\n",
    "eda.get_length_dist(df['review'])\n",
    "eda.get_class_dist(df)"
   ]
  },
  {
   "cell_type": "markdown",
   "id": "900a5886-128f-4842-87e7-f4de8d03bf00",
   "metadata": {},
   "source": [
    "#### Preprocess the data"
   ]
  },
  {
   "cell_type": "code",
   "execution_count": 7,
   "id": "3c67072b-b6bb-462f-9c2b-e83171f30dd2",
   "metadata": {},
   "outputs": [],
   "source": [
    "def preprocess_text(text):\n",
    "    # Remove HTML tags and strip whitespace\n",
    "    text = re.sub(r'<[^>]*>', '', text)\n",
    "    text = text.strip()\n",
    "    # Remove noisy characters and extra spaces\n",
    "    text = re.sub(r'[^\\w\\s]', '', text)\n",
    "    text = re.sub(r'\\s+', ' ', text)\n",
    "    # Lowercase text\n",
    "    text = text.lower()\n",
    "    # Tokenize text and remove stopwords\n",
    "    words = word_tokenize(text)\n",
    "    words = [word for word in words if word not in stop_words]\n",
    "    return ' '.join(words)\n"
   ]
  },
  {
   "cell_type": "code",
   "execution_count": 8,
   "id": "fd909202-894f-4f81-8142-e3cc03a88c4f",
   "metadata": {},
   "outputs": [],
   "source": [
    "df['review'] = df['review'].apply(preprocess_text)"
   ]
  },
  {
   "cell_type": "code",
   "execution_count": 9,
   "id": "37329de7-7f7f-44a8-82f7-9b7f9b43fc1a",
   "metadata": {},
   "outputs": [
    {
     "data": {
      "text/plain": [
       "0     blue monkey 1987 invasion bodysuckers known uk...\n",
       "1     rented dvd hoping good western film pretty sce...\n",
       "2     pile sht tied book worst thing ever made cant ...\n",
       "3     one worst movies ever saw thought get money ba...\n",
       "4     film title ridiculous bagman automatically att...\n",
       "5     körkarlen 1921 classic film cult status amongs...\n",
       "6     maybe excessive weight gain seagal put maybe h...\n",
       "7     wow movie absolutely brilliant really dont kno...\n",
       "8     filmatography excellent nice camera angles don...\n",
       "9     one worst wastes 35mm movie film ever unleashe...\n",
       "10    klutzy young man returns west schooled hotel b...\n",
       "11    one finest films ever made got 76 rating myste...\n",
       "12    life short waste two hours hollywood nonsense ...\n",
       "13    think film educational however fails treat iss...\n",
       "14    attention chuck davis emefy saw phantom lady m...\n",
       "15    allocated fans winner takes match occurred two...\n",
       "16    reading reviews became obvious everyone intell...\n",
       "17    dont know whether film hits heart way feelings...\n",
       "18    neglected film used go movie store curiosity g...\n",
       "19    good telling tarzan epic one reason movie john...\n",
       "Name: review, dtype: object"
      ]
     },
     "execution_count": 9,
     "metadata": {},
     "output_type": "execute_result"
    }
   ],
   "source": [
    "df['review'].head(20)"
   ]
  },
  {
   "cell_type": "markdown",
   "id": "e37091ce-31c6-4dd8-9988-9ee7cc4d35d5",
   "metadata": {},
   "source": [
    "#### Split x=feature, y=target"
   ]
  },
  {
   "cell_type": "code",
   "execution_count": 10,
   "id": "fe61434a-ea20-4118-a54d-c790eb52fef7",
   "metadata": {},
   "outputs": [],
   "source": [
    "x = df['review']\n",
    "y = df['sentiment']"
   ]
  },
  {
   "cell_type": "code",
   "execution_count": 11,
   "id": "d4cd09c0-990a-4fe8-8ef5-d1955359fa4d",
   "metadata": {},
   "outputs": [
    {
     "data": {
      "text/plain": [
       "array([0, 0, 0, ..., 0, 1, 0])"
      ]
     },
     "execution_count": 11,
     "metadata": {},
     "output_type": "execute_result"
    }
   ],
   "source": [
    "from sklearn.preprocessing import LabelEncoder\n",
    "label_encode = LabelEncoder()\n",
    "Y = label_encode.fit_transform(df['sentiment'])\n",
    "Y"
   ]
  },
  {
   "cell_type": "code",
   "execution_count": 12,
   "id": "a8282f62-b148-47fa-b886-c50a3e120a78",
   "metadata": {},
   "outputs": [
    {
     "data": {
      "text/plain": [
       "0        negative\n",
       "1        negative\n",
       "2        negative\n",
       "3        negative\n",
       "4        negative\n",
       "           ...   \n",
       "49995    positive\n",
       "49996    positive\n",
       "49997    negative\n",
       "49998    positive\n",
       "49999    negative\n",
       "Name: sentiment, Length: 50000, dtype: object"
      ]
     },
     "execution_count": 12,
     "metadata": {},
     "output_type": "execute_result"
    }
   ],
   "source": [
    "y"
   ]
  },
  {
   "cell_type": "markdown",
   "id": "58088824-cefd-468d-8e3f-ddd38bbd7b33",
   "metadata": {},
   "source": [
    "### Note: 0 represent negative comments and 1 represent positive comments"
   ]
  },
  {
   "cell_type": "markdown",
   "id": "5ec5f3ed-6769-4564-93c2-4dc5bea126ee",
   "metadata": {},
   "source": [
    "### Split the dataset into training and testing sets\n"
   ]
  },
  {
   "cell_type": "code",
   "execution_count": 13,
   "id": "b1088cf9-4cf8-4f6c-8bdd-f9d22b6f95f0",
   "metadata": {},
   "outputs": [],
   "source": [
    "xtrain, xtest, ytrain, ytest = train_test_split(x, Y, test_size=0.2, random_state=42)"
   ]
  },
  {
   "cell_type": "markdown",
   "id": "cf3d9a30-fba2-45f1-9e3b-94b57a2fed23",
   "metadata": {},
   "source": [
    "### Create a vocabulary"
   ]
  },
  {
   "cell_type": "code",
   "execution_count": 14,
   "id": "c3c951f4-ff12-4331-af67-f2bce9b2369a",
   "metadata": {},
   "outputs": [],
   "source": [
    "# Create a vocabulary\n",
    "from collections import Counter\n",
    "word_counts = Counter(' '.join(xtrain).split())"
   ]
  },
  {
   "cell_type": "markdown",
   "id": "61000921-59d8-4044-87b5-f86f3d72e476",
   "metadata": {},
   "source": [
    "### Display each word in the vocabulary along with its count\n"
   ]
  },
  {
   "cell_type": "code",
   "execution_count": 1,
   "id": "75ac5f0d-5a6a-4b74-aad2-5d17d022b4a0",
   "metadata": {
    "scrolled": true
   },
   "outputs": [],
   "source": [
    "#for word, count in word_counts.items():\n",
    "    #print(f\"{word}: {count}\")"
   ]
  },
  {
   "cell_type": "code",
   "execution_count": 2,
   "id": "10096e11-e063-4789-b962-28a971fb2f3a",
   "metadata": {
    "scrolled": true
   },
   "outputs": [],
   "source": [
    "#vocab = [word for word, count in word_counts.most_common()]\n",
    "#vocab"
   ]
  },
  {
   "cell_type": "markdown",
   "id": "7ce2e3c5-7eb9-4a50-a843-0eb8bd6ff860",
   "metadata": {},
   "source": [
    "### Classification with various classifiers\n",
    "#### 1. Linear SVM\n",
    "#### 2. Logistic Regression (LR)\n",
    "#### 3. Naive Bayes\n",
    "#### 4. XGBoost\n",
    "#### 5. Random Forest"
   ]
  },
  {
   "cell_type": "code",
   "execution_count": 17,
   "id": "aac74f4c-e88b-4ecb-bdec-a7e418a26e59",
   "metadata": {},
   "outputs": [],
   "source": [
    "#Import libraries\n",
    "from sklearn.svm import LinearSVC\n",
    "from sklearn.linear_model import LogisticRegression\n",
    "from sklearn.naive_bayes import MultinomialNB\n",
    "from xgboost import XGBClassifier\n",
    "from sklearn.ensemble import RandomForestClassifier\n",
    "from sklearn.metrics import accuracy_score, precision_score, recall_score, f1_score, classification_report, confusion_matrix\n",
    "from timeit import default_timer as timer"
   ]
  },
  {
   "cell_type": "markdown",
   "id": "9e3f9410-a5ac-4cc0-9079-b1151b6f4e3b",
   "metadata": {},
   "source": [
    "#### Initialize classifiers"
   ]
  },
  {
   "cell_type": "code",
   "execution_count": 18,
   "id": "f86d8c8b-431c-488b-ad0c-b45b87147668",
   "metadata": {},
   "outputs": [],
   "source": [
    "svm_classifier = LinearSVC()\n",
    "logistic_regression = LogisticRegression(max_iter=1000)\n",
    "nb_classifier = MultinomialNB()\n",
    "xgboost_classifier = XGBClassifier()\n",
    "random_forest_classifier = RandomForestClassifier(n_estimators=100, max_depth=3, max_features='sqrt', min_samples_leaf=4, bootstrap=True, n_jobs=-1, random_state=0)"
   ]
  },
  {
   "cell_type": "code",
   "execution_count": 19,
   "id": "7e22042f-47bd-4584-aa4a-b6e27c0ff946",
   "metadata": {},
   "outputs": [],
   "source": [
    "def evaluate_model(model, xtest, ytest):\n",
    "    # Make predictions using the model\n",
    "    y_pred = model.predict(xtest)\n",
    "\n",
    "    # Calculate accuracy\n",
    "    accuracy = accuracy_score(ytest, y_pred)\n",
    "    # Calculate precision\n",
    "    precision = precision_score(ytest, y_pred)\n",
    "    # Calculate recall\n",
    "    recall = recall_score(ytest, y_pred)\n",
    "    # Calculate f1 score\n",
    "    f1 = f1_score(ytest, y_pred)\n",
    "    # Generate a classification report and confusion matrix\n",
    "    report = classification_report(ytest, y_pred)\n",
    "    cm = confusion_matrix(ytest, y_pred)\n",
    "    return y_pred, accuracy, precision, recall, f1, report, cm\n"
   ]
  },
  {
   "cell_type": "code",
   "execution_count": 20,
   "id": "5c560565-5c90-449c-a93e-941939bfa5f8",
   "metadata": {},
   "outputs": [],
   "source": [
    "# Define batch size\n",
    "batch_size = 1000"
   ]
  },
  {
   "cell_type": "markdown",
   "id": "9a54a355-1c98-44e9-9fb5-14d99b480013",
   "metadata": {},
   "source": [
    "## 1. TF-IDF"
   ]
  },
  {
   "cell_type": "markdown",
   "id": "a2f7b368-860d-4cb2-9e9b-a28b457f9a81",
   "metadata": {},
   "source": [
    "#### TF-IDF Vectorization\r\n"
   ]
  },
  {
   "cell_type": "code",
   "execution_count": 21,
   "id": "68886848-7170-403c-b6a3-9e10698cdfc3",
   "metadata": {},
   "outputs": [],
   "source": [
    "tfidf_vectorizer = TfidfVectorizer(max_features=5000)"
   ]
  },
  {
   "cell_type": "markdown",
   "id": "313399cb-be7e-4722-9dd7-9c51610cd49a",
   "metadata": {},
   "source": [
    "##### Process the data in smaller batches for training data\r\n"
   ]
  },
  {
   "cell_type": "code",
   "execution_count": 22,
   "id": "85ff4a92-7d3d-4c92-a783-223569d7b59a",
   "metadata": {},
   "outputs": [
    {
     "name": "stdout",
     "output_type": "stream",
     "text": [
      "Required time for embedding TFIDF with train data:-  10.383901300000048\n"
     ]
    }
   ],
   "source": [
    "start = timer()\n",
    "tfidf_vectorizer_xtrain = []\n",
    "for i in range(0, len(xtrain), batch_size):\n",
    "    batch_X_train = xtrain[i:i + batch_size]\n",
    "    batch_X_train_tfidf = tfidf_vectorizer.fit_transform(batch_X_train)\n",
    "    tfidf_vectorizer_xtrain.extend(batch_X_train_tfidf.toarray())\n",
    "print('Required time for embedding TFIDF with train data:- ', timer() - start) "
   ]
  },
  {
   "cell_type": "markdown",
   "id": "09d50079-1a1b-4ca7-9ce2-9d0e4aef005c",
   "metadata": {},
   "source": [
    "##### Repeat the same process for test data\r\n"
   ]
  },
  {
   "cell_type": "code",
   "execution_count": 23,
   "id": "9a6335d3-4dbc-4d10-b10b-ba51a5820299",
   "metadata": {},
   "outputs": [
    {
     "name": "stdout",
     "output_type": "stream",
     "text": [
      "Required time for embedding TFIDF with train data:-  1.926313499999992\n"
     ]
    }
   ],
   "source": [
    "start = timer()\n",
    "tfidf_vectorizer_xtest = []\n",
    "for i in range(0, len(xtest), batch_size):\n",
    "    batch_X_test = xtest[i:i + batch_size]\n",
    "    batch_X_test_tfidf = tfidf_vectorizer.transform(batch_X_test)\n",
    "    tfidf_vectorizer_xtest.extend(batch_X_test_tfidf.toarray())\n",
    "print('Required time for embedding TFIDF with train data:- ', timer() - start) "
   ]
  },
  {
   "cell_type": "markdown",
   "id": "73973d6b-43fe-4285-88a3-b3d8857f039d",
   "metadata": {},
   "source": [
    "#### Fit classifiers"
   ]
  },
  {
   "cell_type": "code",
   "execution_count": 24,
   "id": "39f1f2f6-456f-4701-a979-bbf536e39113",
   "metadata": {},
   "outputs": [
    {
     "name": "stderr",
     "output_type": "stream",
     "text": [
      "c:\\users\\real\\appdata\\local\\programs\\python\\python38\\lib\\site-packages\\sklearn\\svm\\_classes.py:32: FutureWarning: The default value of `dual` will change from `True` to `'auto'` in 1.5. Set the value of `dual` explicitly to suppress the warning.\n",
      "  warnings.warn(\n"
     ]
    },
    {
     "name": "stdout",
     "output_type": "stream",
     "text": [
      "Required time for training Linear SVM classifiers:-  5.524283699999955\n",
      "Required time for training Logistic Regression classifiers:-  10.336156500000016\n",
      "Required time for training Naive Bayes classifiers:-  6.6202760999999555\n",
      "Required time for training XGBoost classifiers:-  220.29833220000012\n",
      "Required time for training all five classifiers:-  16.086862999999994\n"
     ]
    }
   ],
   "source": [
    "start = timer()\n",
    "svm_tfidf = svm_classifier.fit(tfidf_vectorizer_xtrain, ytrain)\n",
    "print('Required time for training Linear SVM classifiers:- ', timer() - start) \n",
    "start = timer()\n",
    "lr_tfidf = logistic_regression.fit(tfidf_vectorizer_xtrain, ytrain)\n",
    "print('Required time for training Logistic Regression classifiers:- ', timer() - start) \n",
    "start = timer()\n",
    "nb_tfidf = nb_classifier.fit(tfidf_vectorizer_xtrain, ytrain)\n",
    "print('Required time for training Naive Bayes classifiers:- ', timer() - start) \n",
    "start = timer()\n",
    "xgboost_tfidf = xgboost_classifier.fit(tfidf_vectorizer_xtrain, ytrain)\n",
    "print('Required time for training XGBoost classifiers:- ', timer() - start) \n",
    "start = timer()\n",
    "rfc_tfidf = random_forest_classifier.fit(tfidf_vectorizer_xtrain, ytrain)\n",
    "print('Required time for training all five classifiers:- ', timer() - start) "
   ]
  },
  {
   "cell_type": "markdown",
   "id": "d08018d7-fcdd-4bc3-a65f-0d96c7ce649b",
   "metadata": {},
   "source": [
    "#### Make predictions"
   ]
  },
  {
   "cell_type": "markdown",
   "id": "c9193725-8df2-463e-b537-319098fac30f",
   "metadata": {},
   "source": [
    "### Linear SVM"
   ]
  },
  {
   "cell_type": "code",
   "execution_count": 25,
   "id": "72c2a99e-dd40-4abe-a8bd-0ba2db197611",
   "metadata": {},
   "outputs": [
    {
     "name": "stdout",
     "output_type": "stream",
     "text": [
      "Required time for SVM prediction:-  1.2270871000000625\n"
     ]
    }
   ],
   "source": [
    "start = timer()\n",
    "y_pred_svm, accuracy_svm, precision_svm, recall_svm, f1_svm, report_svm, confusion_matrix_svm = evaluate_model(svm_tfidf, tfidf_vectorizer_xtest, ytest)\n",
    "print('Required time for SVM prediction:- ', timer() - start) "
   ]
  },
  {
   "cell_type": "markdown",
   "id": "c586812c-6fe9-48ba-9ad8-620e046ec079",
   "metadata": {},
   "source": [
    "#### Print actual vs. predicted results for LinearSVM"
   ]
  },
  {
   "cell_type": "code",
   "execution_count": 26,
   "id": "b6e3df3f-9612-49e9-871b-787decfbc83b",
   "metadata": {},
   "outputs": [
    {
     "name": "stdout",
     "output_type": "stream",
     "text": [
      "0 = negative, 1 = positive\n",
      "Actual: 0, SVM Predicted: 0\n",
      "\n",
      "Actual: 1, SVM Predicted: 1\n",
      "\n",
      "Actual: 0, SVM Predicted: 0\n",
      "\n",
      "Actual: 0, SVM Predicted: 1\n",
      "\n",
      "Actual: 1, SVM Predicted: 1\n",
      "\n",
      "Actual: 1, SVM Predicted: 1\n",
      "\n",
      "Actual: 1, SVM Predicted: 0\n",
      "\n",
      "Actual: 0, SVM Predicted: 1\n",
      "\n",
      "Actual: 1, SVM Predicted: 1\n",
      "\n",
      "Actual: 1, SVM Predicted: 0\n",
      "\n",
      "Actual: 1, SVM Predicted: 1\n",
      "\n",
      "Actual: 0, SVM Predicted: 0\n",
      "\n",
      "Actual: 1, SVM Predicted: 1\n",
      "\n",
      "Actual: 0, SVM Predicted: 0\n",
      "\n",
      "Actual: 0, SVM Predicted: 0\n",
      "\n"
     ]
    }
   ],
   "source": [
    "print('0 = negative, 1 = positive')\n",
    "for actual, predicted in zip(ytest[:15], y_pred_svm[:15]):\n",
    "    print(f\"Actual: {actual}, SVM Predicted: {predicted}\")\n",
    "    print()"
   ]
  },
  {
   "cell_type": "code",
   "execution_count": 27,
   "id": "cb35628b-3cbe-46f2-bd43-073975b3ec90",
   "metadata": {},
   "outputs": [
    {
     "name": "stdout",
     "output_type": "stream",
     "text": [
      "LinearSVM Accuracy: 0.69\n",
      "LinearSVM Precision: 0.70\n",
      "LinearSVM Recall: 0.68\n",
      "LinearSVM F1 score: 0.69\n",
      "Classification Report:\n",
      "              precision    recall  f1-score   support\n",
      "\n",
      "           0       0.68      0.70      0.69      4941\n",
      "           1       0.70      0.68      0.69      5059\n",
      "\n",
      "    accuracy                           0.69     10000\n",
      "   macro avg       0.69      0.69      0.69     10000\n",
      "weighted avg       0.69      0.69      0.69     10000\n",
      "\n",
      "Confusion Matrix\n",
      "[[3473 1468]\n",
      " [1644 3415]]\n"
     ]
    }
   ],
   "source": [
    "print(f\"LinearSVM Accuracy: {accuracy_svm:.2f}\")\n",
    "print(f\"LinearSVM Precision: {precision_svm:.2f}\")\n",
    "print(f\"LinearSVM Recall: {recall_svm:.2f}\")\n",
    "print(f\"LinearSVM F1 score: {f1_svm:.2f}\")\n",
    "print(\"Classification Report:\")\n",
    "print(report_svm)\n",
    "print(\"Confusion Matrix\")\n",
    "print(confusion_matrix_svm)"
   ]
  },
  {
   "cell_type": "markdown",
   "id": "e1ffb984-5f8b-48b5-94ca-63781a24a87c",
   "metadata": {},
   "source": [
    "### Logistic Regression"
   ]
  },
  {
   "cell_type": "code",
   "execution_count": 28,
   "id": "23169f4f-6f05-42cd-8c13-c3bcdea52d65",
   "metadata": {},
   "outputs": [
    {
     "name": "stdout",
     "output_type": "stream",
     "text": [
      "Required time for Logistic Regression prediction:-  0.5415533999998843\n"
     ]
    }
   ],
   "source": [
    "start = timer()\n",
    "y_pred_lr, accuracy_lr, precision_lr, recall_lr, f1_lr, report_lr, cm_lr = evaluate_model(lr_tfidf, tfidf_vectorizer_xtest, ytest)\n",
    "print('Required time for Logistic Regression prediction:- ', timer() - start) "
   ]
  },
  {
   "cell_type": "markdown",
   "id": "285a2cc2-0776-42bf-82cb-c1e39e80cd28",
   "metadata": {},
   "source": [
    "#### Print actual vs. predicted results for Logistic Regression\n"
   ]
  },
  {
   "cell_type": "code",
   "execution_count": 29,
   "id": "067b3d31-1352-4115-a807-cdfe4ce6f54a",
   "metadata": {},
   "outputs": [
    {
     "name": "stdout",
     "output_type": "stream",
     "text": [
      "0 = negative, 1 = positive\n",
      "Actual: 0, Logistic Regression Predicted: 0\n",
      "\n",
      "Actual: 1, Logistic Regression Predicted: 0\n",
      "\n",
      "Actual: 0, Logistic Regression Predicted: 0\n",
      "\n",
      "Actual: 0, Logistic Regression Predicted: 1\n",
      "\n",
      "Actual: 1, Logistic Regression Predicted: 1\n",
      "\n",
      "Actual: 1, Logistic Regression Predicted: 1\n",
      "\n",
      "Actual: 1, Logistic Regression Predicted: 0\n",
      "\n",
      "Actual: 0, Logistic Regression Predicted: 1\n",
      "\n",
      "Actual: 1, Logistic Regression Predicted: 1\n",
      "\n",
      "Actual: 1, Logistic Regression Predicted: 0\n",
      "\n",
      "Actual: 1, Logistic Regression Predicted: 1\n",
      "\n",
      "Actual: 0, Logistic Regression Predicted: 0\n",
      "\n",
      "Actual: 1, Logistic Regression Predicted: 1\n",
      "\n",
      "Actual: 0, Logistic Regression Predicted: 0\n",
      "\n",
      "Actual: 0, Logistic Regression Predicted: 0\n",
      "\n"
     ]
    }
   ],
   "source": [
    "print('0 = negative, 1 = positive')\n",
    "for actual, predicted in zip(ytest[:15], y_pred_lr[:15]):\n",
    "    print(f\"Actual: {actual}, Logistic Regression Predicted: {predicted}\")\n",
    "    print()"
   ]
  },
  {
   "cell_type": "code",
   "execution_count": 30,
   "id": "be6cecf4-f22c-4eac-bfd8-65a81e061ee9",
   "metadata": {},
   "outputs": [
    {
     "name": "stdout",
     "output_type": "stream",
     "text": [
      "Logistic Regression Accuracy: 0.70\n",
      "Logistic Regression Precision: 0.71\n",
      "Logistic Regression Recall: 0.67\n",
      "Logistic Regression F1 score: 0.69\n",
      "Classification Report:\n",
      "              precision    recall  f1-score   support\n",
      "\n",
      "           0       0.68      0.72      0.70      4941\n",
      "           1       0.71      0.67      0.69      5059\n",
      "\n",
      "    accuracy                           0.70     10000\n",
      "   macro avg       0.70      0.70      0.70     10000\n",
      "weighted avg       0.70      0.70      0.70     10000\n",
      "\n",
      "Confusion Matrix\n",
      "[[3576 1365]\n",
      " [1660 3399]]\n"
     ]
    }
   ],
   "source": [
    "print(f\"Logistic Regression Accuracy: {accuracy_lr:.2f}\")\n",
    "print(f\"Logistic Regression Precision: {precision_lr:.2f}\")\n",
    "print(f\"Logistic Regression Recall: {recall_lr:.2f}\")\n",
    "print(f\"Logistic Regression F1 score: {f1_lr:.2f}\")\n",
    "print(\"Classification Report:\")\n",
    "print(report_lr)\n",
    "print(\"Confusion Matrix\")\n",
    "print(cm_lr)"
   ]
  },
  {
   "cell_type": "markdown",
   "id": "0a0222ad-264e-40ac-a032-ab9b7ff2cd00",
   "metadata": {},
   "source": [
    "### Naive bayes"
   ]
  },
  {
   "cell_type": "code",
   "execution_count": 31,
   "id": "bb0e65ee-dcb6-4494-bfad-95ac85448a24",
   "metadata": {},
   "outputs": [
    {
     "name": "stdout",
     "output_type": "stream",
     "text": [
      "Required time for Naive Bayes prediction:-  0.5743786999998974\n"
     ]
    }
   ],
   "source": [
    "start = timer()\n",
    "y_pred_nb, accuracy_nb, precision_nb, recall_nb, f1_nb, report_nb, cm_nb = evaluate_model(nb_tfidf, tfidf_vectorizer_xtest, ytest)\n",
    "print('Required time for Naive Bayes prediction:- ', timer() - start) "
   ]
  },
  {
   "cell_type": "markdown",
   "id": "3c315f65-2f63-4924-b4a1-058c6ff5775d",
   "metadata": {},
   "source": [
    "#### Print actual vs. predicted results for Naive bayes\n"
   ]
  },
  {
   "cell_type": "code",
   "execution_count": 32,
   "id": "77452499-14aa-41f3-b117-546b185aa32f",
   "metadata": {},
   "outputs": [
    {
     "name": "stdout",
     "output_type": "stream",
     "text": [
      "0 = negative, 1 = positive\n",
      "Actual: 0, Naive bayes Predicted: 0\n",
      "\n",
      "Actual: 1, Naive bayes Predicted: 0\n",
      "\n",
      "Actual: 0, Naive bayes Predicted: 0\n",
      "\n",
      "Actual: 0, Naive bayes Predicted: 0\n",
      "\n",
      "Actual: 1, Naive bayes Predicted: 1\n",
      "\n",
      "Actual: 1, Naive bayes Predicted: 1\n",
      "\n",
      "Actual: 1, Naive bayes Predicted: 0\n",
      "\n",
      "Actual: 0, Naive bayes Predicted: 0\n",
      "\n",
      "Actual: 1, Naive bayes Predicted: 0\n",
      "\n",
      "Actual: 1, Naive bayes Predicted: 0\n",
      "\n",
      "Actual: 1, Naive bayes Predicted: 1\n",
      "\n",
      "Actual: 0, Naive bayes Predicted: 0\n",
      "\n",
      "Actual: 1, Naive bayes Predicted: 0\n",
      "\n",
      "Actual: 0, Naive bayes Predicted: 0\n",
      "\n",
      "Actual: 0, Naive bayes Predicted: 0\n",
      "\n"
     ]
    }
   ],
   "source": [
    "print('0 = negative, 1 = positive')\n",
    "for actual, predicted in zip(ytest[:15], y_pred_nb[:15]):\n",
    "    print(f\"Actual: {actual}, Naive bayes Predicted: {predicted}\")\n",
    "    print()"
   ]
  },
  {
   "cell_type": "code",
   "execution_count": 33,
   "id": "c564657e-19e5-43eb-9ed0-ca0e73db8e65",
   "metadata": {},
   "outputs": [
    {
     "name": "stdout",
     "output_type": "stream",
     "text": [
      "Naive bayes Accuracy: 0.68\n",
      "Naive bayes Precision: 0.74\n",
      "Naive bayes Recall: 0.58\n",
      "Naive bayes F1 score: 0.65\n",
      "Classification Report:\n",
      "              precision    recall  f1-score   support\n",
      "\n",
      "           0       0.65      0.80      0.71      4941\n",
      "           1       0.74      0.58      0.65      5059\n",
      "\n",
      "    accuracy                           0.68     10000\n",
      "   macro avg       0.70      0.69      0.68     10000\n",
      "weighted avg       0.70      0.68      0.68     10000\n",
      "\n",
      "Confusion Matrix:\n",
      "[[3938 1003]\n",
      " [2148 2911]]\n"
     ]
    }
   ],
   "source": [
    "print(f\"Naive bayes Accuracy: {accuracy_nb:.2f}\")\n",
    "print(f\"Naive bayes Precision: {precision_nb:.2f}\")\n",
    "print(f\"Naive bayes Recall: {recall_nb:.2f}\")\n",
    "print(f\"Naive bayes F1 score: {f1_nb:.2f}\")\n",
    "print(\"Classification Report:\")\n",
    "print(report_nb)\n",
    "print(\"Confusion Matrix:\")\n",
    "print(cm_nb)"
   ]
  },
  {
   "cell_type": "markdown",
   "id": "85e291f9-7f4a-4ee4-b62d-afc9981d4d5e",
   "metadata": {},
   "source": [
    "### XGBoost Classifier"
   ]
  },
  {
   "cell_type": "code",
   "execution_count": 34,
   "id": "15c8b8ef-5f43-4db0-adf7-27ac972ad917",
   "metadata": {},
   "outputs": [
    {
     "name": "stdout",
     "output_type": "stream",
     "text": [
      "Required time for XGBoost classifier prediction:-  0.7785725000001094\n"
     ]
    }
   ],
   "source": [
    "start = timer()\n",
    "y_pred_xgboost, accuracy_xgboost, precision_xgboost, recall_xgboost, f1_xgboost, report_xgboost, cm_xgboost = evaluate_model(xgboost_tfidf, tfidf_vectorizer_xtest, ytest)\n",
    "print('Required time for XGBoost classifier prediction:- ', timer() - start) "
   ]
  },
  {
   "cell_type": "markdown",
   "id": "5cee48b3-b0d0-4ec4-8e1d-1b1a6523c1fe",
   "metadata": {},
   "source": [
    "#### Print actual vs. predicted results for XGBoost classifier\n"
   ]
  },
  {
   "cell_type": "code",
   "execution_count": 35,
   "id": "ae277999-c33f-4127-90e9-a5e6e34b23a8",
   "metadata": {},
   "outputs": [
    {
     "name": "stdout",
     "output_type": "stream",
     "text": [
      "0 = negative, 1 = positive\n",
      "Actual: 0, XGBoost Predicted: 0\n",
      "\n",
      "Actual: 1, XGBoost Predicted: 0\n",
      "\n",
      "Actual: 0, XGBoost Predicted: 1\n",
      "\n",
      "Actual: 0, XGBoost Predicted: 0\n",
      "\n",
      "Actual: 1, XGBoost Predicted: 0\n",
      "\n",
      "Actual: 1, XGBoost Predicted: 1\n",
      "\n",
      "Actual: 1, XGBoost Predicted: 1\n",
      "\n",
      "Actual: 0, XGBoost Predicted: 0\n",
      "\n",
      "Actual: 1, XGBoost Predicted: 1\n",
      "\n",
      "Actual: 1, XGBoost Predicted: 0\n",
      "\n",
      "Actual: 1, XGBoost Predicted: 1\n",
      "\n",
      "Actual: 0, XGBoost Predicted: 1\n",
      "\n",
      "Actual: 1, XGBoost Predicted: 1\n",
      "\n",
      "Actual: 0, XGBoost Predicted: 1\n",
      "\n",
      "Actual: 0, XGBoost Predicted: 1\n",
      "\n"
     ]
    }
   ],
   "source": [
    "print('0 = negative, 1 = positive')\n",
    "for actual, predicted in zip(ytest[:15], y_pred_xgboost[:15]):\n",
    "    print(f\"Actual: {actual}, XGBoost Predicted: {predicted}\")\n",
    "    print()"
   ]
  },
  {
   "cell_type": "code",
   "execution_count": 36,
   "id": "b477ba4b-24cb-4e5b-888b-42d62c0d4f02",
   "metadata": {},
   "outputs": [
    {
     "name": "stdout",
     "output_type": "stream",
     "text": [
      "XGBoost Accuracy: 0.69\n",
      "XGBoost Precision: 0.69\n",
      "XGBoost Recall: 0.69\n",
      "XGBoost F1 score: 0.69\n",
      "Classification Report:\n",
      "              precision    recall  f1-score   support\n",
      "\n",
      "           0       0.69      0.68      0.69      4941\n",
      "           1       0.69      0.69      0.69      5059\n",
      "\n",
      "    accuracy                           0.69     10000\n",
      "   macro avg       0.69      0.69      0.69     10000\n",
      "weighted avg       0.69      0.69      0.69     10000\n",
      "\n",
      "Confusion Matrix:\n",
      "[[3382 1559]\n",
      " [1548 3511]]\n"
     ]
    }
   ],
   "source": [
    "print(f\"XGBoost Accuracy: {accuracy_xgboost:.2f}\")\n",
    "print(f\"XGBoost Precision: {precision_xgboost:.2f}\")\n",
    "print(f\"XGBoost Recall: {recall_xgboost:.2f}\")\n",
    "print(f\"XGBoost F1 score: {f1_xgboost:.2f}\")\n",
    "print(\"Classification Report:\")\n",
    "print(report_xgboost)\n",
    "print(\"Confusion Matrix:\")\n",
    "print(cm_xgboost)"
   ]
  },
  {
   "cell_type": "markdown",
   "id": "a27a6d4d-5cec-4a00-9646-793488fc4964",
   "metadata": {},
   "source": [
    "### Random Forest Classifier"
   ]
  },
  {
   "cell_type": "code",
   "execution_count": 37,
   "id": "5cfa9a30-1b1b-45a7-b122-4abbe8346461",
   "metadata": {},
   "outputs": [
    {
     "name": "stdout",
     "output_type": "stream",
     "text": [
      "Required time for Random Forest classifier prediction:-  0.4677316999998311\n"
     ]
    }
   ],
   "source": [
    "start = timer()\n",
    "y_pred_rfc, accuracy_rfc, precision_rfc, recall_rfc, f1_rfc, report_rfc, cm_rfc = evaluate_model(rfc_tfidf, tfidf_vectorizer_xtest, ytest)\n",
    "print('Required time for Random Forest classifier prediction:- ', timer() - start) "
   ]
  },
  {
   "cell_type": "markdown",
   "id": "fe655b46-23f8-4b23-8df1-6d15309d3f12",
   "metadata": {},
   "source": [
    "#### Print actual vs. predicted results for Random Forest classifier"
   ]
  },
  {
   "cell_type": "code",
   "execution_count": 38,
   "id": "4d5e8ac2-bd2f-4aa2-9f2d-cf23d24361f1",
   "metadata": {},
   "outputs": [
    {
     "name": "stdout",
     "output_type": "stream",
     "text": [
      "0 = negative, 1 = positive\n",
      "Actual: 0, Random Forest Predicted: 0\n",
      "\n",
      "Actual: 1, Random Forest Predicted: 0\n",
      "\n",
      "Actual: 0, Random Forest Predicted: 1\n",
      "\n",
      "Actual: 0, Random Forest Predicted: 0\n",
      "\n",
      "Actual: 1, Random Forest Predicted: 0\n",
      "\n",
      "Actual: 1, Random Forest Predicted: 1\n",
      "\n",
      "Actual: 1, Random Forest Predicted: 0\n",
      "\n",
      "Actual: 0, Random Forest Predicted: 1\n",
      "\n",
      "Actual: 1, Random Forest Predicted: 1\n",
      "\n",
      "Actual: 1, Random Forest Predicted: 0\n",
      "\n",
      "Actual: 1, Random Forest Predicted: 0\n",
      "\n",
      "Actual: 0, Random Forest Predicted: 0\n",
      "\n",
      "Actual: 1, Random Forest Predicted: 1\n",
      "\n",
      "Actual: 0, Random Forest Predicted: 0\n",
      "\n",
      "Actual: 0, Random Forest Predicted: 0\n",
      "\n"
     ]
    }
   ],
   "source": [
    "print('0 = negative, 1 = positive')\n",
    "for actual, predicted in zip(ytest[:15], y_pred_rfc[:15]):\n",
    "    print(f\"Actual: {actual}, Random Forest Predicted: {predicted}\")\n",
    "    print()"
   ]
  },
  {
   "cell_type": "code",
   "execution_count": 39,
   "id": "ab187b17-3db3-4b9b-b7ab-c4d143197b7a",
   "metadata": {},
   "outputs": [
    {
     "name": "stdout",
     "output_type": "stream",
     "text": [
      "Random Forest Accuracy: 0.64\n",
      "Random Forest Precision: 0.69\n",
      "Random Forest Recall: 0.53\n",
      "Random Forest F1 score: 0.60\n",
      "Classification Report:\n",
      "              precision    recall  f1-score   support\n",
      "\n",
      "           0       0.61      0.76      0.68      4941\n",
      "           1       0.69      0.53      0.60      5059\n",
      "\n",
      "    accuracy                           0.64     10000\n",
      "   macro avg       0.65      0.64      0.64     10000\n",
      "weighted avg       0.65      0.64      0.64     10000\n",
      "\n",
      "Confusion Matrix:\n",
      "[[3732 1209]\n",
      " [2358 2701]]\n"
     ]
    }
   ],
   "source": [
    "print(f\"Random Forest Accuracy: {accuracy_rfc:.2f}\")\n",
    "print(f\"Random Forest Precision: {precision_rfc:.2f}\")\n",
    "print(f\"Random Forest Recall: {recall_rfc:.2f}\")\n",
    "print(f\"Random Forest F1 score: {f1_rfc:.2f}\")\n",
    "print(\"Classification Report:\")\n",
    "print(report_rfc)\n",
    "print(\"Confusion Matrix:\")\n",
    "print(cm_rfc)"
   ]
  },
  {
   "cell_type": "markdown",
   "id": "9a592bf1-0eb7-48e6-8601-0898db9ae9ce",
   "metadata": {},
   "source": [
    "#### Display all five models accuracy"
   ]
  },
  {
   "cell_type": "code",
   "execution_count": 40,
   "id": "ff1e68fb-4836-4aa3-afd4-25ab644c5236",
   "metadata": {},
   "outputs": [],
   "source": [
    "model_names = ['LinearSVM', 'LogisticRegression', 'NaiveBayes', 'XGBoost', 'RandomForest']\n",
    "model_accuracies = [accuracy_svm, accuracy_lr, accuracy_nb, accuracy_xgboost, accuracy_rfc]"
   ]
  },
  {
   "cell_type": "code",
   "execution_count": 41,
   "id": "3dde51c8-e9d8-4776-a187-99d19f7ae441",
   "metadata": {},
   "outputs": [
    {
     "data": {
      "image/png": "[encoded data removed]",
      "text/plain": [
       "<Figure size 1000x600 with 1 Axes>"
      ]
     },
     "metadata": {},
     "output_type": "display_data"
    }
   ],
   "source": [
    "plt.figure(figsize=(10, 6))\n",
    "plt.bar(model_names, model_accuracies, color=['blue', 'green', 'orange', 'red', 'purple'])\n",
    "plt.xlabel(\"Models\")\n",
    "plt.ylabel(\"Accuracy\")\n",
    "plt.title(\"Model Accuracy Comparison with TFIDF\")\n",
    "plt.ylim(0.0, 1.0)  # Set the y-axis limits\n",
    "plt.grid(axis='y', linestyle='--', alpha=0.7)\n",
    "plt.show()\n"
   ]
  },
  {
   "cell_type": "code",
   "execution_count": null,
   "id": "824f4682-946e-4f55-8890-9e321a54ea90",
   "metadata": {},
   "outputs": [],
   "source": []
  },
  {
   "cell_type": "markdown",
   "id": "088056e2-1950-4bf4-94bf-9e8e9a59405b",
   "metadata": {},
   "source": [
    "## 2. Universal Sentence Encoder (USE)\n",
    "#### 1. Linear SVM\n",
    "#### 2. Logistic Regression\n",
    "#### 3. XGBoost classifier\n",
    "#### 4. Random Forest classifier"
   ]
  },
  {
   "cell_type": "markdown",
   "id": "59fd68e1-f425-462d-a2c9-da43542aad71",
   "metadata": {},
   "source": [
    "#### Load the Universal Sentence Encoder model, and embed this model"
   ]
  },
  {
   "cell_type": "code",
   "execution_count": 42,
   "id": "3f673c84-af0c-4aef-9f70-419072e3926f",
   "metadata": {},
   "outputs": [
    {
     "name": "stdout",
     "output_type": "stream",
     "text": [
      "Required time for upload USE from tensorflow hub:-  14.048776599999883\n"
     ]
    }
   ],
   "source": [
    "start = timer()\n",
    "embed = hub.load(\"https://tfhub.dev/google/universal-sentence-encoder/4\")\n",
    "print('Required time for upload USE from tensorflow hub:- ', timer() - start) "
   ]
  },
  {
   "cell_type": "code",
   "execution_count": 43,
   "id": "f1eb3f78-13d2-418d-8d20-b9f00e3e81a5",
   "metadata": {},
   "outputs": [],
   "source": [
    "xtrain_use = []\n",
    "xtest_use = []"
   ]
  },
  {
   "cell_type": "code",
   "execution_count": 44,
   "id": "5842e6c3-ef9c-42a4-877d-d61d9b1fe26c",
   "metadata": {},
   "outputs": [
    {
     "name": "stdout",
     "output_type": "stream",
     "text": [
      "Required time for embedding xtrain with USE:-  57.74180700000011\n"
     ]
    }
   ],
   "source": [
    "start = timer()\n",
    "for i in range(0, len(xtrain), batch_size):\n",
    "    batch_X_train = xtrain[i:i + batch_size]\n",
    "    batch_X_train_use = np.array(embed(batch_X_train))\n",
    "    xtrain_use.extend(batch_X_train_use)\n",
    "print('Required time for embedding xtrain with USE:- ', timer() - start) "
   ]
  },
  {
   "cell_type": "code",
   "execution_count": 45,
   "id": "431ee9ce-03d6-428a-8db8-b0f19ed9f032",
   "metadata": {},
   "outputs": [
    {
     "name": "stdout",
     "output_type": "stream",
     "text": [
      "Required time for embedding xtest with USE:-  13.481257599999935\n"
     ]
    }
   ],
   "source": [
    "start = timer()\n",
    "for i in range(0, len(xtest), batch_size):\n",
    "    batch_X_test = xtest[i:i + batch_size]\n",
    "    batch_X_test_use = np.array(embed(batch_X_test))\n",
    "    xtest_use.extend(batch_X_test_use)\n",
    "print('Required time for embedding xtest with USE:- ', timer() - start) "
   ]
  },
  {
   "cell_type": "markdown",
   "id": "3d079e02-63bf-400b-acc1-a66c070f6404",
   "metadata": {},
   "source": [
    "#### Fit classifiers"
   ]
  },
  {
   "cell_type": "code",
   "execution_count": 47,
   "id": "7eb3f533-c4c3-4709-88ed-78da68d3a0d2",
   "metadata": {},
   "outputs": [
    {
     "name": "stderr",
     "output_type": "stream",
     "text": [
      "c:\\users\\real\\appdata\\local\\programs\\python\\python38\\lib\\site-packages\\sklearn\\svm\\_classes.py:32: FutureWarning: The default value of `dual` will change from `True` to `'auto'` in 1.5. Set the value of `dual` explicitly to suppress the warning.\n",
      "  warnings.warn(\n"
     ]
    },
    {
     "name": "stdout",
     "output_type": "stream",
     "text": [
      "Required time for training Linear SVM classifier:-  4.793448399999988\n",
      "Required time for training Logistic Regression:-  3.7724092999999357\n",
      "Required time for training XGBoost classifier:-  47.12510980000002\n",
      "Required time for training all Random Forest classifier:-  40.176696799999945\n"
     ]
    }
   ],
   "source": [
    "start = timer()\n",
    "svm_use = svm_classifier.fit(xtrain_use, ytrain)\n",
    "print('Required time for training Linear SVM classifier:- ', timer() - start) \n",
    "start = timer()\n",
    "lr_use = logistic_regression.fit(xtrain_use, ytrain)\n",
    "print('Required time for training Logistic Regression:- ', timer() - start)  \n",
    "start = timer()\n",
    "xgboost_use = xgboost_classifier.fit(xtrain_use, ytrain)\n",
    "print('Required time for training XGBoost classifier:- ', timer() - start) \n",
    "start = timer()\n",
    "rfc_use = random_forest_classifier.fit(xtrain_use, ytrain)\n",
    "print('Required time for training all Random Forest classifier:- ', timer() - start) "
   ]
  },
  {
   "cell_type": "markdown",
   "id": "c92dfbf4-08ba-4236-8d6d-af68465b50fe",
   "metadata": {},
   "source": [
    "#### Make predictions"
   ]
  },
  {
   "cell_type": "markdown",
   "id": "09da979e-43f9-4438-a0cb-ab0fb66f0fdd",
   "metadata": {},
   "source": [
    "### Linear SVM"
   ]
  },
  {
   "cell_type": "code",
   "execution_count": 48,
   "id": "8dbece2d-a9d0-456c-a231-eac4a7d265f6",
   "metadata": {},
   "outputs": [
    {
     "name": "stdout",
     "output_type": "stream",
     "text": [
      "Required time for Linear SVM prediction with USE :-  0.17824430000018765\n"
     ]
    }
   ],
   "source": [
    "start = timer()\n",
    "y_pred_svm_use, accuracy_svm_use, precision_svm_use, recall_svm_use, f1_svm_use, report_svm_use, cm_svm_use = evaluate_model(svm_use, xtest_use, ytest)\n",
    "print('Required time for Linear SVM prediction with USE :- ', timer() - start) "
   ]
  },
  {
   "cell_type": "markdown",
   "id": "5a9c6b6c-069f-4fdd-a579-9f63906191b5",
   "metadata": {},
   "source": [
    "#### Print actual vs. predicted results for LinearSVM with USE"
   ]
  },
  {
   "cell_type": "code",
   "execution_count": 49,
   "id": "9fb07728-d982-4964-90bc-bf41f0bde12c",
   "metadata": {},
   "outputs": [
    {
     "name": "stdout",
     "output_type": "stream",
     "text": [
      "0 = negative, 1 = positive\n",
      "Actual: 0, SVM with USE embedding Predicted: 0\n",
      "\n",
      "Actual: 1, SVM with USE embedding Predicted: 1\n",
      "\n",
      "Actual: 0, SVM with USE embedding Predicted: 0\n",
      "\n",
      "Actual: 0, SVM with USE embedding Predicted: 0\n",
      "\n",
      "Actual: 1, SVM with USE embedding Predicted: 1\n",
      "\n",
      "Actual: 1, SVM with USE embedding Predicted: 1\n",
      "\n",
      "Actual: 1, SVM with USE embedding Predicted: 0\n",
      "\n",
      "Actual: 0, SVM with USE embedding Predicted: 0\n",
      "\n",
      "Actual: 1, SVM with USE embedding Predicted: 1\n",
      "\n",
      "Actual: 1, SVM with USE embedding Predicted: 0\n",
      "\n",
      "Actual: 1, SVM with USE embedding Predicted: 0\n",
      "\n",
      "Actual: 0, SVM with USE embedding Predicted: 0\n",
      "\n",
      "Actual: 1, SVM with USE embedding Predicted: 0\n",
      "\n",
      "Actual: 0, SVM with USE embedding Predicted: 0\n",
      "\n",
      "Actual: 0, SVM with USE embedding Predicted: 0\n",
      "\n"
     ]
    }
   ],
   "source": [
    "print('0 = negative, 1 = positive')\n",
    "for actual, predicted in zip(ytest[:15], y_pred_svm_use[:15]):\n",
    "    print(f\"Actual: {actual}, SVM with USE embedding Predicted: {predicted}\")\n",
    "    print()"
   ]
  },
  {
   "cell_type": "code",
   "execution_count": 50,
   "id": "10d6b544-a9e5-4262-ad6f-a6909d1776d7",
   "metadata": {},
   "outputs": [
    {
     "name": "stdout",
     "output_type": "stream",
     "text": [
      "LinearSVM (USE) Accuracy: 0.84\n",
      "LinearSVM (USE) Precision: 0.84\n",
      "LinearSVM (USE) Recall: 0.85\n",
      "LinearSVM (USE) F1 score: 0.84\n",
      "Classification Report:\n",
      "              precision    recall  f1-score   support\n",
      "\n",
      "           0       0.84      0.83      0.84      4941\n",
      "           1       0.84      0.85      0.84      5059\n",
      "\n",
      "    accuracy                           0.84     10000\n",
      "   macro avg       0.84      0.84      0.84     10000\n",
      "weighted avg       0.84      0.84      0.84     10000\n",
      "\n",
      "Confusion Matrix\n",
      "[[4111  830]\n",
      " [ 771 4288]]\n"
     ]
    }
   ],
   "source": [
    "print(f\"LinearSVM (USE) Accuracy: {accuracy_svm_use:.2f}\")\n",
    "print(f\"LinearSVM (USE) Precision: {precision_svm_use:.2f}\")\n",
    "print(f\"LinearSVM (USE) Recall: {recall_svm_use:.2f}\")\n",
    "print(f\"LinearSVM (USE) F1 score: {f1_svm_use:.2f}\")\n",
    "print(\"Classification Report:\")\n",
    "print(report_svm_use)\n",
    "print(\"Confusion Matrix\")\n",
    "print(cm_svm_use)"
   ]
  },
  {
   "cell_type": "markdown",
   "id": "b3cd44cc-ce2b-41fb-a883-5dcc3a50d6f2",
   "metadata": {},
   "source": [
    "### Logitic Regression"
   ]
  },
  {
   "cell_type": "code",
   "execution_count": 51,
   "id": "7697ced6-a18a-4187-987f-01f5b23f4d7a",
   "metadata": {},
   "outputs": [
    {
     "name": "stdout",
     "output_type": "stream",
     "text": [
      "Required time for LR prediction with USE :-  0.17296159999978045\n"
     ]
    }
   ],
   "source": [
    "start = timer()\n",
    "y_pred_lr_use, accuracy_lr_use, precision_lr_use, recall_lr_use, f1_lr_use, report_lr_use, cm_lr_use = evaluate_model(lr_use, xtest_use, ytest)\n",
    "print('Required time for LR prediction with USE :- ', timer() - start) "
   ]
  },
  {
   "cell_type": "markdown",
   "id": "76c9e2af-4d09-4716-9f63-b4882dcd4b78",
   "metadata": {},
   "source": [
    "#### Print actual vs. predicted results for Logistic Regression with USE"
   ]
  },
  {
   "cell_type": "code",
   "execution_count": 52,
   "id": "3be83df8-b3a7-49c9-8774-7ecab4156fdb",
   "metadata": {},
   "outputs": [
    {
     "name": "stdout",
     "output_type": "stream",
     "text": [
      "0 = negative, 1 = positive\n",
      "Actual: 0, Logistic Regression Predicted with USE: 0\n",
      "\n",
      "Actual: 1, Logistic Regression Predicted with USE: 1\n",
      "\n",
      "Actual: 0, Logistic Regression Predicted with USE: 0\n",
      "\n",
      "Actual: 0, Logistic Regression Predicted with USE: 0\n",
      "\n",
      "Actual: 1, Logistic Regression Predicted with USE: 1\n",
      "\n",
      "Actual: 1, Logistic Regression Predicted with USE: 1\n",
      "\n",
      "Actual: 1, Logistic Regression Predicted with USE: 0\n",
      "\n",
      "Actual: 0, Logistic Regression Predicted with USE: 0\n",
      "\n",
      "Actual: 1, Logistic Regression Predicted with USE: 1\n",
      "\n",
      "Actual: 1, Logistic Regression Predicted with USE: 0\n",
      "\n",
      "Actual: 1, Logistic Regression Predicted with USE: 0\n",
      "\n",
      "Actual: 0, Logistic Regression Predicted with USE: 0\n",
      "\n",
      "Actual: 1, Logistic Regression Predicted with USE: 0\n",
      "\n",
      "Actual: 0, Logistic Regression Predicted with USE: 0\n",
      "\n",
      "Actual: 0, Logistic Regression Predicted with USE: 0\n",
      "\n"
     ]
    }
   ],
   "source": [
    "print('0 = negative, 1 = positive')\n",
    "for actual, predicted in zip(ytest[:15], y_pred_lr_use[:15]):\n",
    "    print(f\"Actual: {actual}, Logistic Regression Predicted with USE: {predicted}\")\n",
    "    print()"
   ]
  },
  {
   "cell_type": "code",
   "execution_count": 53,
   "id": "13cb5d68-dda4-4175-a76c-c284cca42275",
   "metadata": {},
   "outputs": [
    {
     "name": "stdout",
     "output_type": "stream",
     "text": [
      "Logistic Regression (USE) Accuracy: 0.84\n",
      "Logistic Regression (USE) Precision: 0.84\n",
      "Logistic Regression (USE) Recall: 0.84\n",
      "Logistic Regression (USE) F1 score: 0.84\n",
      "Classification Report:\n",
      "              precision    recall  f1-score   support\n",
      "\n",
      "           0       0.84      0.83      0.84      4941\n",
      "           1       0.84      0.84      0.84      5059\n",
      "\n",
      "    accuracy                           0.84     10000\n",
      "   macro avg       0.84      0.84      0.84     10000\n",
      "weighted avg       0.84      0.84      0.84     10000\n",
      "\n",
      "Confusion Matrix\n",
      "[[4125  816]\n",
      " [ 786 4273]]\n"
     ]
    }
   ],
   "source": [
    "print(f\"Logistic Regression (USE) Accuracy: {accuracy_lr_use:.2f}\")\n",
    "print(f\"Logistic Regression (USE) Precision: {precision_lr_use:.2f}\")\n",
    "print(f\"Logistic Regression (USE) Recall: {recall_lr_use:.2f}\")\n",
    "print(f\"Logistic Regression (USE) F1 score: {f1_lr_use:.2f}\")\n",
    "print(\"Classification Report:\")\n",
    "print(report_lr_use)\n",
    "print(\"Confusion Matrix\")\n",
    "print(cm_lr_use)"
   ]
  },
  {
   "cell_type": "markdown",
   "id": "7c67a1ff-2f71-4d6a-84a3-4f47a5598ed4",
   "metadata": {},
   "source": [
    "### XGBoost Classifier"
   ]
  },
  {
   "cell_type": "code",
   "execution_count": 54,
   "id": "f924c51e-7524-4a0c-ac5c-224cddbef6f8",
   "metadata": {},
   "outputs": [
    {
     "name": "stdout",
     "output_type": "stream",
     "text": [
      "Required time for XGBoost classifier prediction with USE:-  0.274866799999927\n"
     ]
    }
   ],
   "source": [
    "start = timer()\n",
    "y_pred_xgboost_use, accuracy_xgboost_use, precision_xgboost_use, recall_xgboost_use, f1_xgboost_use, report_xgboost_use, cm_xgboost_use = evaluate_model(xgboost_use, xtest_use, ytest)\n",
    "print('Required time for XGBoost classifier prediction with USE:- ', timer() - start) "
   ]
  },
  {
   "cell_type": "markdown",
   "id": "7014ca0b-a60b-4362-894a-42f3bd457b49",
   "metadata": {},
   "source": [
    "#### Print actual vs. predicted results for XGBooost classifier with USE"
   ]
  },
  {
   "cell_type": "code",
   "execution_count": 55,
   "id": "c4b81fed-c0a4-4326-b6b2-7638c3b26887",
   "metadata": {},
   "outputs": [
    {
     "name": "stdout",
     "output_type": "stream",
     "text": [
      "0 = negative, 1 = positive\n",
      "Actual: 0, XGBoost with USE Predicted: 0\n",
      "\n",
      "Actual: 1, XGBoost with USE Predicted: 1\n",
      "\n",
      "Actual: 0, XGBoost with USE Predicted: 0\n",
      "\n",
      "Actual: 0, XGBoost with USE Predicted: 0\n",
      "\n",
      "Actual: 1, XGBoost with USE Predicted: 0\n",
      "\n",
      "Actual: 1, XGBoost with USE Predicted: 1\n",
      "\n",
      "Actual: 1, XGBoost with USE Predicted: 1\n",
      "\n",
      "Actual: 0, XGBoost with USE Predicted: 0\n",
      "\n",
      "Actual: 1, XGBoost with USE Predicted: 1\n",
      "\n",
      "Actual: 1, XGBoost with USE Predicted: 0\n",
      "\n",
      "Actual: 1, XGBoost with USE Predicted: 1\n",
      "\n",
      "Actual: 0, XGBoost with USE Predicted: 0\n",
      "\n",
      "Actual: 1, XGBoost with USE Predicted: 1\n",
      "\n",
      "Actual: 0, XGBoost with USE Predicted: 0\n",
      "\n",
      "Actual: 0, XGBoost with USE Predicted: 0\n",
      "\n"
     ]
    }
   ],
   "source": [
    "print('0 = negative, 1 = positive')\n",
    "for actual, predicted in zip(ytest[:15], y_pred_xgboost_use[:15]):\n",
    "    print(f\"Actual: {actual}, XGBoost with USE Predicted: {predicted}\")\n",
    "    print()"
   ]
  },
  {
   "cell_type": "code",
   "execution_count": 56,
   "id": "3d11bbe0-28fa-482e-9872-c9523dcc874e",
   "metadata": {},
   "outputs": [
    {
     "name": "stdout",
     "output_type": "stream",
     "text": [
      "XGBoost (USE) Accuracy: 0.83\n",
      "XGBoost (USE) Precision: 0.83\n",
      "XGBoost (USE) Recall: 0.84\n",
      "XGBoost (USE) F1 score: 0.83\n",
      "Classification Report:\n",
      "              precision    recall  f1-score   support\n",
      "\n",
      "           0       0.83      0.82      0.83      4941\n",
      "           1       0.83      0.84      0.83      5059\n",
      "\n",
      "    accuracy                           0.83     10000\n",
      "   macro avg       0.83      0.83      0.83     10000\n",
      "weighted avg       0.83      0.83      0.83     10000\n",
      "\n",
      "Confusion Matrix:\n",
      "[[4060  881]\n",
      " [ 823 4236]]\n"
     ]
    }
   ],
   "source": [
    "print(f\"XGBoost (USE) Accuracy: {accuracy_xgboost_use:.2f}\")\n",
    "print(f\"XGBoost (USE) Precision: {precision_xgboost_use:.2f}\")\n",
    "print(f\"XGBoost (USE) Recall: {recall_xgboost_use:.2f}\")\n",
    "print(f\"XGBoost (USE) F1 score: {f1_xgboost_use:.2f}\")\n",
    "print(\"Classification Report:\")\n",
    "print(report_xgboost_use)\n",
    "print(\"Confusion Matrix:\")\n",
    "print(cm_xgboost_use)"
   ]
  },
  {
   "cell_type": "markdown",
   "id": "f75e7d65-8506-4c59-a21d-3005666d1b2d",
   "metadata": {},
   "source": [
    "### Random Forest Classifier"
   ]
  },
  {
   "cell_type": "code",
   "execution_count": 57,
   "id": "5fd0ff15-78bc-428c-83e0-4c4efdb8f9ed",
   "metadata": {},
   "outputs": [
    {
     "name": "stdout",
     "output_type": "stream",
     "text": [
      "Required time for Random Forest classifier with USE prediction:-  0.27738429999999425\n"
     ]
    }
   ],
   "source": [
    "start = timer()\n",
    "y_pred_rfc_use, accuracy_rfc_use, precision_rfc_use, recall_rfc_use, f1_rfc_use, report_rfc_use, cm_rfc_use = evaluate_model(rfc_use, xtest_use, ytest)\n",
    "print('Required time for Random Forest classifier with USE prediction:- ', timer() - start) "
   ]
  },
  {
   "cell_type": "markdown",
   "id": "bd3c72de-ac43-41ec-bf45-137179473e4c",
   "metadata": {},
   "source": [
    "#### Print actual vs. predicted results for Random Forest classifier with USE"
   ]
  },
  {
   "cell_type": "code",
   "execution_count": 58,
   "id": "f4cca2e7-8c13-4552-86ca-31e12bcaaba5",
   "metadata": {},
   "outputs": [
    {
     "name": "stdout",
     "output_type": "stream",
     "text": [
      "0 = negative, 1 = positive\n",
      "Actual: 0, Random Forest with USE Predicted: 0\n",
      "\n",
      "Actual: 1, Random Forest with USE Predicted: 1\n",
      "\n",
      "Actual: 0, Random Forest with USE Predicted: 1\n",
      "\n",
      "Actual: 0, Random Forest with USE Predicted: 0\n",
      "\n",
      "Actual: 1, Random Forest with USE Predicted: 1\n",
      "\n",
      "Actual: 1, Random Forest with USE Predicted: 1\n",
      "\n",
      "Actual: 1, Random Forest with USE Predicted: 0\n",
      "\n",
      "Actual: 0, Random Forest with USE Predicted: 0\n",
      "\n",
      "Actual: 1, Random Forest with USE Predicted: 1\n",
      "\n",
      "Actual: 1, Random Forest with USE Predicted: 0\n",
      "\n",
      "Actual: 1, Random Forest with USE Predicted: 0\n",
      "\n",
      "Actual: 0, Random Forest with USE Predicted: 0\n",
      "\n",
      "Actual: 1, Random Forest with USE Predicted: 1\n",
      "\n",
      "Actual: 0, Random Forest with USE Predicted: 0\n",
      "\n",
      "Actual: 0, Random Forest with USE Predicted: 0\n",
      "\n"
     ]
    }
   ],
   "source": [
    "print('0 = negative, 1 = positive')\n",
    "for actual, predicted in zip(ytest[:15], y_pred_rfc_use[:15]):\n",
    "    print(f\"Actual: {actual}, Random Forest with USE Predicted: {predicted}\")\n",
    "    print()"
   ]
  },
  {
   "cell_type": "code",
   "execution_count": 59,
   "id": "a0a3eb5b-660b-461e-831d-371abdacac9f",
   "metadata": {},
   "outputs": [
    {
     "name": "stdout",
     "output_type": "stream",
     "text": [
      "Random Forest (USE) Accuracy: 0.78\n",
      "Random Forest (USE) Precision: 0.79\n",
      "Random Forest (USE) Recall: 0.78\n",
      "Random Forest (USE) F1 score: 0.78\n",
      "Classification Report:\n",
      "              precision    recall  f1-score   support\n",
      "\n",
      "           0       0.78      0.79      0.78      4941\n",
      "           1       0.79      0.78      0.78      5059\n",
      "\n",
      "    accuracy                           0.78     10000\n",
      "   macro avg       0.78      0.78      0.78     10000\n",
      "weighted avg       0.78      0.78      0.78     10000\n",
      "\n",
      "Confusion Matrix:\n",
      "[[3882 1059]\n",
      " [1113 3946]]\n"
     ]
    }
   ],
   "source": [
    "print(f\"Random Forest (USE) Accuracy: {accuracy_rfc_use:.2f}\")\n",
    "print(f\"Random Forest (USE) Precision: {precision_rfc_use:.2f}\")\n",
    "print(f\"Random Forest (USE) Recall: {recall_rfc_use:.2f}\")\n",
    "print(f\"Random Forest (USE) F1 score: {f1_rfc_use:.2f}\")\n",
    "print(\"Classification Report:\")\n",
    "print(report_rfc_use)\n",
    "print(\"Confusion Matrix:\")\n",
    "print(cm_rfc_use)"
   ]
  },
  {
   "cell_type": "markdown",
   "id": "08674157-e878-426f-9376-6a47158b4db2",
   "metadata": {},
   "source": [
    "#### Display all four models accuracy \n",
    "##### (--Note: Naive bayes (MultinomialNB) model not used with USE embedding because it not able to resolve the issue of negative values)"
   ]
  },
  {
   "cell_type": "code",
   "execution_count": 60,
   "id": "5a7d2cbc-8a7f-4126-b782-34baa998410d",
   "metadata": {},
   "outputs": [],
   "source": [
    "model_names = ['LinearSVM', 'LogisticRegression', 'XGBoost', 'RandomForest']\n",
    "model_accuracies = [accuracy_svm_use, accuracy_lr_use, accuracy_xgboost_use, accuracy_rfc_use]"
   ]
  },
  {
   "cell_type": "code",
   "execution_count": 61,
   "id": "f656cc76-8d6f-46c5-bdc7-75db37e32ff6",
   "metadata": {},
   "outputs": [
    {
     "data": {
      "image/png": "[encoded data removed]",
      "text/plain": [
       "<Figure size 1000x600 with 1 Axes>"
      ]
     },
     "metadata": {},
     "output_type": "display_data"
    }
   ],
   "source": [
    "plt.figure(figsize=(10, 6))\n",
    "plt.bar(model_names, model_accuracies, color=['blue', 'orange', 'red', 'purple'])\n",
    "plt.xlabel(\"Models\")\n",
    "plt.ylabel(\"Accuracy\")\n",
    "plt.title(\"Model Accuracy Comparison with USE\")\n",
    "plt.ylim(0.0, 1.0)  # Set the y-axis limits\n",
    "plt.grid(axis='y', linestyle='--', alpha=0.7)\n",
    "plt.show()\n"
   ]
  },
  {
   "cell_type": "code",
   "execution_count": null,
   "id": "f27c247f-8160-4f8d-bb3f-698f2e134f25",
   "metadata": {},
   "outputs": [],
   "source": []
  },
  {
   "cell_type": "markdown",
   "id": "da1716d1-26fc-4bd8-be95-c8cab7b483bc",
   "metadata": {},
   "source": [
    "## 3. TF-IDF + Universal Sentence Encoder (USE)\n",
    "#### 1. Linear SVM\n",
    "#### 2. Logistic Regression\n",
    "#### 3. XGBoost classifier\n",
    "#### 4. Random Forest classifier"
   ]
  },
  {
   "cell_type": "markdown",
   "id": "22b0a099-a6d7-403d-87f3-a642d746251d",
   "metadata": {},
   "source": [
    "#### Combine TF-IDF and Universal Sentence Encoder embeddings\r\n"
   ]
  },
  {
   "cell_type": "code",
   "execution_count": 62,
   "id": "65acc049-2ea5-455e-9753-845c774938f1",
   "metadata": {},
   "outputs": [],
   "source": [
    "xtrain_tfidf_use_combined = tf.concat([tfidf_vectorizer_xtrain, xtrain_use], axis=1)\n",
    "xtest_tfidf_use_combined = tf.concat([tfidf_vectorizer_xtest, xtest_use], axis=1)"
   ]
  },
  {
   "cell_type": "markdown",
   "id": "d722ffc4-9aa0-467b-8bff-7a31125fd782",
   "metadata": {},
   "source": [
    "#### Fit classifiers"
   ]
  },
  {
   "cell_type": "code",
   "execution_count": 63,
   "id": "96486ca5-c5fc-456f-8ef2-7f96eed0b435",
   "metadata": {},
   "outputs": [
    {
     "name": "stderr",
     "output_type": "stream",
     "text": [
      "c:\\users\\real\\appdata\\local\\programs\\python\\python38\\lib\\site-packages\\sklearn\\svm\\_classes.py:32: FutureWarning: The default value of `dual` will change from `True` to `'auto'` in 1.5. Set the value of `dual` explicitly to suppress the warning.\n",
      "  warnings.warn(\n"
     ]
    },
    {
     "name": "stdout",
     "output_type": "stream",
     "text": [
      "Required time for training Linear SVM:-  7.629803400000128\n",
      "Required time for training Logistic Regression:-  25.598484199999803\n",
      "Required time for training XGBoost classifier:-  354.2623773\n",
      "Required time for training Random Forest classifier:-  28.224720700000034\n"
     ]
    }
   ],
   "source": [
    "start = timer()\n",
    "svm_tfidf_use = svm_classifier.fit(xtrain_tfidf_use_combined, ytrain)\n",
    "print('Required time for training Linear SVM:- ', timer() - start) \n",
    "start = timer()\n",
    "lr_tfidf_use = logistic_regression.fit(xtrain_tfidf_use_combined, ytrain)\n",
    "print('Required time for training Logistic Regression:- ', timer() - start)\n",
    "start = timer()\n",
    "xgboost_tfidf_use = xgboost_classifier.fit(xtrain_tfidf_use_combined, ytrain)\n",
    "print('Required time for training XGBoost classifier:- ', timer() - start)\n",
    "start = timer()\n",
    "rfc_tfidf_use = random_forest_classifier.fit(xtrain_tfidf_use_combined, ytrain)\n",
    "print('Required time for training Random Forest classifier:- ', timer() - start) "
   ]
  },
  {
   "cell_type": "markdown",
   "id": "03ad8659-041b-4f03-ac37-bda2a7a6bb75",
   "metadata": {},
   "source": [
    "#### Make predictions"
   ]
  },
  {
   "cell_type": "markdown",
   "id": "4691ce83-3a27-469f-9bf8-ca91e6cded61",
   "metadata": {},
   "source": [
    "### Linear SVM"
   ]
  },
  {
   "cell_type": "code",
   "execution_count": 64,
   "id": "142f6937-5ca9-4dea-bdd5-4ede0b537783",
   "metadata": {},
   "outputs": [
    {
     "name": "stdout",
     "output_type": "stream",
     "text": [
      "Required time for Linear SVM prediction with TFIDF+USE :-  0.43146759999990536\n"
     ]
    }
   ],
   "source": [
    "start = timer()\n",
    "y_pred_svm_tfidf_use, accuracy_svm_tfidf_use, precision_svm_tfidf_use, recall_svm_tfidf_use, f1_svm_tfidf_use, report_svm_tfidf_use, cm_svm_tfidf_use = evaluate_model(svm_tfidf_use, xtest_tfidf_use_combined, ytest)\n",
    "print('Required time for Linear SVM prediction with TFIDF+USE :- ', timer() - start) "
   ]
  },
  {
   "cell_type": "markdown",
   "id": "da1c1abb-d1eb-4f44-8e90-33160f357c1b",
   "metadata": {},
   "source": [
    "#### Print actual vs. predicted results for Linear SVM with TFIDF + USE"
   ]
  },
  {
   "cell_type": "code",
   "execution_count": 65,
   "id": "d77ff7f6-af5d-44de-b4a9-5c2020255b69",
   "metadata": {},
   "outputs": [
    {
     "name": "stdout",
     "output_type": "stream",
     "text": [
      "0 = negative, 1 = positive\n",
      "Actual: 0, SVM with TFIDF+USE Predicted: 0\n",
      "\n",
      "Actual: 1, SVM with TFIDF+USE Predicted: 1\n",
      "\n",
      "Actual: 0, SVM with TFIDF+USE Predicted: 0\n",
      "\n",
      "Actual: 0, SVM with TFIDF+USE Predicted: 0\n",
      "\n",
      "Actual: 1, SVM with TFIDF+USE Predicted: 1\n",
      "\n",
      "Actual: 1, SVM with TFIDF+USE Predicted: 1\n",
      "\n",
      "Actual: 1, SVM with TFIDF+USE Predicted: 0\n",
      "\n",
      "Actual: 0, SVM with TFIDF+USE Predicted: 0\n",
      "\n",
      "Actual: 1, SVM with TFIDF+USE Predicted: 1\n",
      "\n",
      "Actual: 1, SVM with TFIDF+USE Predicted: 1\n",
      "\n",
      "Actual: 1, SVM with TFIDF+USE Predicted: 1\n",
      "\n",
      "Actual: 0, SVM with TFIDF+USE Predicted: 0\n",
      "\n",
      "Actual: 1, SVM with TFIDF+USE Predicted: 1\n",
      "\n",
      "Actual: 0, SVM with TFIDF+USE Predicted: 0\n",
      "\n",
      "Actual: 0, SVM with TFIDF+USE Predicted: 0\n",
      "\n"
     ]
    }
   ],
   "source": [
    "print('0 = negative, 1 = positive')\n",
    "for actual, predicted in zip(ytest[:15], y_pred_svm_tfidf_use[:15]):\n",
    "    print(f\"Actual: {actual}, SVM with TFIDF+USE Predicted: {predicted}\")\n",
    "    print()"
   ]
  },
  {
   "cell_type": "code",
   "execution_count": 66,
   "id": "515c87ab-fee7-4c71-af17-020e45c00ae0",
   "metadata": {},
   "outputs": [
    {
     "name": "stdout",
     "output_type": "stream",
     "text": [
      "LinearSVM (TFIDF+USE) Accuracy: 0.82\n",
      "LinearSVM (TFIDF+USE) Precision: 0.81\n",
      "LinearSVM (TFIDF+USE) Recall: 0.83\n",
      "LinearSVM (TFIDF+USE) F1 score: 0.82\n",
      "Classification Report:\n",
      "              precision    recall  f1-score   support\n",
      "\n",
      "           0       0.82      0.80      0.81      4941\n",
      "           1       0.81      0.83      0.82      5059\n",
      "\n",
      "    accuracy                           0.82     10000\n",
      "   macro avg       0.82      0.82      0.82     10000\n",
      "weighted avg       0.82      0.82      0.82     10000\n",
      "\n",
      "Confusion Matrix\n",
      "[[3973  968]\n",
      " [ 863 4196]]\n"
     ]
    }
   ],
   "source": [
    "print(f\"LinearSVM (TFIDF+USE) Accuracy: {accuracy_svm_tfidf_use:.2f}\")\n",
    "print(f\"LinearSVM (TFIDF+USE) Precision: {precision_svm_tfidf_use:.2f}\")\n",
    "print(f\"LinearSVM (TFIDF+USE) Recall: {recall_svm_tfidf_use:.2f}\")\n",
    "print(f\"LinearSVM (TFIDF+USE) F1 score: {f1_svm_tfidf_use:.2f}\")\n",
    "print(\"Classification Report:\")\n",
    "print(report_svm_tfidf_use)\n",
    "print(\"Confusion Matrix\")\n",
    "print(cm_svm_tfidf_use)"
   ]
  },
  {
   "cell_type": "markdown",
   "id": "67dced06-8dcb-4bde-baf4-bc622d17a5b4",
   "metadata": {},
   "source": [
    "### Logistic Regression"
   ]
  },
  {
   "cell_type": "code",
   "execution_count": 67,
   "id": "3c4fef99-7d9d-428a-a72c-d9403271711a",
   "metadata": {},
   "outputs": [
    {
     "name": "stdout",
     "output_type": "stream",
     "text": [
      "Required time for Logistic Regression prediction with TFIDF+USE :-  0.2531191999996736\n"
     ]
    }
   ],
   "source": [
    "start = timer()\n",
    "y_pred_lr_tfidf_use, accuracy_lr_tfidf_use, precision_lr_tfidf_use, recall_lr_tfidf_use, f1_lr_tfidf_use, report_lr_tfidf_use, cm_lr_tfidf_use = evaluate_model(lr_tfidf_use, xtest_tfidf_use_combined, ytest)\n",
    "print('Required time for Logistic Regression prediction with TFIDF+USE :- ', timer() - start) "
   ]
  },
  {
   "cell_type": "markdown",
   "id": "f53793f7-9922-4c3d-91de-042cedc8f807",
   "metadata": {},
   "source": [
    "#### Print actual vs. predicted results for Logistic Regression with TFIDF + USE"
   ]
  },
  {
   "cell_type": "code",
   "execution_count": 68,
   "id": "17846db8-46d3-48f2-8b46-0052203605d7",
   "metadata": {},
   "outputs": [
    {
     "name": "stdout",
     "output_type": "stream",
     "text": [
      "0 = negative, 1 = positive\n",
      "Actual: 0, LR with TFIDF+USE embedding Predicted: 0\n",
      "\n",
      "Actual: 1, LR with TFIDF+USE embedding Predicted: 1\n",
      "\n",
      "Actual: 0, LR with TFIDF+USE embedding Predicted: 0\n",
      "\n",
      "Actual: 0, LR with TFIDF+USE embedding Predicted: 0\n",
      "\n",
      "Actual: 1, LR with TFIDF+USE embedding Predicted: 1\n",
      "\n",
      "Actual: 1, LR with TFIDF+USE embedding Predicted: 1\n",
      "\n",
      "Actual: 1, LR with TFIDF+USE embedding Predicted: 0\n",
      "\n",
      "Actual: 0, LR with TFIDF+USE embedding Predicted: 0\n",
      "\n",
      "Actual: 1, LR with TFIDF+USE embedding Predicted: 1\n",
      "\n",
      "Actual: 1, LR with TFIDF+USE embedding Predicted: 0\n",
      "\n",
      "Actual: 1, LR with TFIDF+USE embedding Predicted: 1\n",
      "\n",
      "Actual: 0, LR with TFIDF+USE embedding Predicted: 0\n",
      "\n",
      "Actual: 1, LR with TFIDF+USE embedding Predicted: 1\n",
      "\n",
      "Actual: 0, LR with TFIDF+USE embedding Predicted: 0\n",
      "\n",
      "Actual: 0, LR with TFIDF+USE embedding Predicted: 0\n",
      "\n"
     ]
    }
   ],
   "source": [
    "print('0 = negative, 1 = positive')\n",
    "for actual, predicted in zip(ytest[:15], y_pred_lr_tfidf_use[:15]):\n",
    "    print(f\"Actual: {actual}, LR with TFIDF+USE embedding Predicted: {predicted}\")\n",
    "    print()"
   ]
  },
  {
   "cell_type": "code",
   "execution_count": 70,
   "id": "cad1a480-5284-47de-ba8f-45dcb3e0416e",
   "metadata": {},
   "outputs": [
    {
     "name": "stdout",
     "output_type": "stream",
     "text": [
      "Logistic Regression (TFIDF+USE) Accuracy: 0.84\n",
      "Logistic Regression (TFIDF+USE) Precision: 0.83\n",
      "Logistic Regression (TFIDF+USE) Recall: 0.84\n",
      "Logistic Regression (TFIDF+USE) F1 score: 0.84\n",
      "Classification Report:\n",
      "              precision    recall  f1-score   support\n",
      "\n",
      "           0       0.84      0.83      0.83      4941\n",
      "           1       0.83      0.84      0.84      5059\n",
      "\n",
      "    accuracy                           0.84     10000\n",
      "   macro avg       0.84      0.84      0.84     10000\n",
      "weighted avg       0.84      0.84      0.84     10000\n",
      "\n",
      "Confusion Matrix\n",
      "[[4094  847]\n",
      " [ 791 4268]]\n"
     ]
    }
   ],
   "source": [
    "print(f\"Logistic Regression (TFIDF+USE) Accuracy: {accuracy_lr_tfidf_use:.2f}\")\n",
    "print(f\"Logistic Regression (TFIDF+USE) Precision: {precision_lr_tfidf_use:.2f}\")\n",
    "print(f\"Logistic Regression (TFIDF+USE) Recall: {recall_lr_tfidf_use:.2f}\")\n",
    "print(f\"Logistic Regression (TFIDF+USE) F1 score: {f1_lr_tfidf_use:.2f}\")\n",
    "print(\"Classification Report:\")\n",
    "print(report_lr_tfidf_use)\n",
    "print(\"Confusion Matrix\")\n",
    "print(cm_lr_tfidf_use)"
   ]
  },
  {
   "cell_type": "markdown",
   "id": "efa9795b-8764-4336-ae44-83c3cd311099",
   "metadata": {},
   "source": [
    "### XGBoost Classifier"
   ]
  },
  {
   "cell_type": "code",
   "execution_count": 72,
   "id": "10275f78-28d7-4bf9-981e-350ec5f42dcc",
   "metadata": {},
   "outputs": [
    {
     "name": "stdout",
     "output_type": "stream",
     "text": [
      "Required time for XGBoost prediction with TFIDF+USE :-  1.8905360999997356\n"
     ]
    }
   ],
   "source": [
    "start = timer()\n",
    "y_pred_xgb_tfidf_use, accuracy_xgb_tfidf_use, precision_xgb_tfidf_use, recall_xgb_tfidf_use, f1_xgb_tfidf_use, report_xgb_tfidf_use, cm_xgb_tfidf_use = evaluate_model(xgboost_tfidf_use, xtest_tfidf_use_combined, ytest)\n",
    "print('Required time for XGBoost prediction with TFIDF+USE :- ', timer() - start) "
   ]
  },
  {
   "cell_type": "markdown",
   "id": "57a77adf-2bfd-4756-a246-a9f5f200ecf7",
   "metadata": {},
   "source": [
    "#### Print actual vs. predicted results for XGBoost with TFIDF + USE"
   ]
  },
  {
   "cell_type": "code",
   "execution_count": 73,
   "id": "5413edb4-5085-4c9a-8ccf-dc354a3764a4",
   "metadata": {},
   "outputs": [
    {
     "name": "stdout",
     "output_type": "stream",
     "text": [
      "0 = negative, 1 = positive\n",
      "Actual: 0, XGBoost with TFIDF+USE embedding Predicted: 0\n",
      "\n",
      "Actual: 1, XGBoost with TFIDF+USE embedding Predicted: 1\n",
      "\n",
      "Actual: 0, XGBoost with TFIDF+USE embedding Predicted: 0\n",
      "\n",
      "Actual: 0, XGBoost with TFIDF+USE embedding Predicted: 0\n",
      "\n",
      "Actual: 1, XGBoost with TFIDF+USE embedding Predicted: 0\n",
      "\n",
      "Actual: 1, XGBoost with TFIDF+USE embedding Predicted: 1\n",
      "\n",
      "Actual: 1, XGBoost with TFIDF+USE embedding Predicted: 0\n",
      "\n",
      "Actual: 0, XGBoost with TFIDF+USE embedding Predicted: 0\n",
      "\n",
      "Actual: 1, XGBoost with TFIDF+USE embedding Predicted: 1\n",
      "\n",
      "Actual: 1, XGBoost with TFIDF+USE embedding Predicted: 0\n",
      "\n",
      "Actual: 1, XGBoost with TFIDF+USE embedding Predicted: 0\n",
      "\n",
      "Actual: 0, XGBoost with TFIDF+USE embedding Predicted: 0\n",
      "\n",
      "Actual: 1, XGBoost with TFIDF+USE embedding Predicted: 0\n",
      "\n",
      "Actual: 0, XGBoost with TFIDF+USE embedding Predicted: 0\n",
      "\n",
      "Actual: 0, XGBoost with TFIDF+USE embedding Predicted: 0\n",
      "\n"
     ]
    }
   ],
   "source": [
    "print('0 = negative, 1 = positive')\n",
    "for actual, predicted in zip(ytest[:15], y_pred_xgb_tfidf_use[:15]):\n",
    "    print(f\"Actual: {actual}, XGBoost with TFIDF+USE embedding Predicted: {predicted}\")\n",
    "    print()"
   ]
  },
  {
   "cell_type": "code",
   "execution_count": 75,
   "id": "42650d91-fe30-4f9e-a5b0-c09564749491",
   "metadata": {},
   "outputs": [
    {
     "name": "stdout",
     "output_type": "stream",
     "text": [
      "XGBoost (TFIDF+USE) Accuracy: 0.82\n",
      "XGBoost (TFIDF+USE) Precision: 0.82\n",
      "XGBoost (TFIDF+USE) Recall: 0.84\n",
      "XGBoost (TFIDF+USE) F1 score: 0.83\n",
      "Classification Report:\n",
      "              precision    recall  f1-score   support\n",
      "\n",
      "           0       0.83      0.81      0.82      4941\n",
      "           1       0.82      0.84      0.83      5059\n",
      "\n",
      "    accuracy                           0.82     10000\n",
      "   macro avg       0.82      0.82      0.82     10000\n",
      "weighted avg       0.82      0.82      0.82     10000\n",
      "\n",
      "Confusion Matrix:\n",
      "[[4011  930]\n",
      " [ 834 4225]]\n"
     ]
    }
   ],
   "source": [
    "print(f\"XGBoost (TFIDF+USE) Accuracy: {accuracy_xgb_tfidf_use:.2f}\")\n",
    "print(f\"XGBoost (TFIDF+USE) Precision: {precision_xgb_tfidf_use:.2f}\")\n",
    "print(f\"XGBoost (TFIDF+USE) Recall: {recall_xgb_tfidf_use:.2f}\")\n",
    "print(f\"XGBoost (TFIDF+USE) F1 score: {f1_xgb_tfidf_use:.2f}\")\n",
    "print(\"Classification Report:\")\n",
    "print(report_xgb_tfidf_use)\n",
    "print(\"Confusion Matrix:\")\n",
    "print(cm_xgb_tfidf_use)"
   ]
  },
  {
   "cell_type": "markdown",
   "id": "aa69aa30-2ff4-4c02-983d-e7d30bf0148d",
   "metadata": {},
   "source": [
    "### Random Forest classifier"
   ]
  },
  {
   "cell_type": "code",
   "execution_count": 76,
   "id": "b72207a8-49fd-4433-9335-6dc521e76791",
   "metadata": {},
   "outputs": [
    {
     "name": "stdout",
     "output_type": "stream",
     "text": [
      "Required time for Random Forest prediction with TFIDF+USE :-  0.45141249999960564\n"
     ]
    }
   ],
   "source": [
    "start = timer()\n",
    "y_pred_rfc_tfidf_use, accuracy_rfc_tfidf_use, precision_rfc_tfidf_use, recall_rfc_tfidf_use, f1_rfc_tfidf_use, report_rfc_tfidf_use, cm_rfc_tfidf_use = evaluate_model(rfc_tfidf_use, xtest_tfidf_use_combined, ytest)\n",
    "print('Required time for Random Forest prediction with TFIDF+USE :- ', timer() - start) "
   ]
  },
  {
   "cell_type": "markdown",
   "id": "6df8a34b-ddac-4154-b674-f84008bf373d",
   "metadata": {},
   "source": [
    "#### Print actual vs. predicted results for Random Forest with TFIDF + USE"
   ]
  },
  {
   "cell_type": "code",
   "execution_count": 77,
   "id": "e1eba937-e203-440a-bf96-f37f51e3b14c",
   "metadata": {},
   "outputs": [
    {
     "name": "stdout",
     "output_type": "stream",
     "text": [
      "0 = negative, 1 = positive\n",
      "Actual: 0, RFC with TFIDF+USE embedding Predicted: 0\n",
      "\n",
      "Actual: 1, RFC with TFIDF+USE embedding Predicted: 1\n",
      "\n",
      "Actual: 0, RFC with TFIDF+USE embedding Predicted: 1\n",
      "\n",
      "Actual: 0, RFC with TFIDF+USE embedding Predicted: 0\n",
      "\n",
      "Actual: 1, RFC with TFIDF+USE embedding Predicted: 1\n",
      "\n",
      "Actual: 1, RFC with TFIDF+USE embedding Predicted: 1\n",
      "\n",
      "Actual: 1, RFC with TFIDF+USE embedding Predicted: 0\n",
      "\n",
      "Actual: 0, RFC with TFIDF+USE embedding Predicted: 0\n",
      "\n",
      "Actual: 1, RFC with TFIDF+USE embedding Predicted: 1\n",
      "\n",
      "Actual: 1, RFC with TFIDF+USE embedding Predicted: 0\n",
      "\n",
      "Actual: 1, RFC with TFIDF+USE embedding Predicted: 1\n",
      "\n",
      "Actual: 0, RFC with TFIDF+USE embedding Predicted: 0\n",
      "\n",
      "Actual: 1, RFC with TFIDF+USE embedding Predicted: 1\n",
      "\n",
      "Actual: 0, RFC with TFIDF+USE embedding Predicted: 0\n",
      "\n",
      "Actual: 0, RFC with TFIDF+USE embedding Predicted: 0\n",
      "\n"
     ]
    }
   ],
   "source": [
    "print('0 = negative, 1 = positive')\n",
    "for actual, predicted in zip(ytest[:15], y_pred_rfc_tfidf_use[:15]):\n",
    "    print(f\"Actual: {actual}, RFC with TFIDF+USE embedding Predicted: {predicted}\")\n",
    "    print()"
   ]
  },
  {
   "cell_type": "code",
   "execution_count": 78,
   "id": "4eee78c6-2fed-4d25-bdc8-44e87bc20702",
   "metadata": {},
   "outputs": [
    {
     "name": "stdout",
     "output_type": "stream",
     "text": [
      "Random Forest (TFIDF+USE) Accuracy: 0.79\n",
      "Random Forest (TFIDF+USE) Precision: 0.78\n",
      "Random Forest (TFIDF+USE) Recall: 0.80\n",
      "Random Forest (TFIDF+USE) F1 score: 0.79\n",
      "Classification Report:\n",
      "              precision    recall  f1-score   support\n",
      "\n",
      "           0       0.79      0.77      0.78      4941\n",
      "           1       0.78      0.80      0.79      5059\n",
      "\n",
      "    accuracy                           0.79     10000\n",
      "   macro avg       0.79      0.79      0.79     10000\n",
      "weighted avg       0.79      0.79      0.79     10000\n",
      "\n",
      "Confusion Matrix:\n",
      "[[3827 1114]\n",
      " [1013 4046]]\n"
     ]
    }
   ],
   "source": [
    "print(f\"Random Forest (TFIDF+USE) Accuracy: {accuracy_rfc_tfidf_use:.2f}\")\n",
    "print(f\"Random Forest (TFIDF+USE) Precision: {precision_rfc_tfidf_use:.2f}\")\n",
    "print(f\"Random Forest (TFIDF+USE) Recall: {recall_rfc_tfidf_use:.2f}\")\n",
    "print(f\"Random Forest (TFIDF+USE) F1 score: {f1_rfc_tfidf_use:.2f}\")\n",
    "print(\"Classification Report:\")\n",
    "print(report_rfc_tfidf_use)\n",
    "print(\"Confusion Matrix:\")\n",
    "print(cm_rfc_tfidf_use)"
   ]
  },
  {
   "cell_type": "markdown",
   "id": "cb06d7db-08f2-47a3-9726-2d40a989d50a",
   "metadata": {},
   "source": [
    "### Visualization"
   ]
  },
  {
   "cell_type": "code",
   "execution_count": 82,
   "id": "6e41982b-c09b-4e55-811c-eb522ca0edfa",
   "metadata": {},
   "outputs": [
    {
     "data": {
      "image/png": "[encoded data removed]",
      "text/plain": [
       "<Figure size 1000x600 with 1 Axes>"
      ]
     },
     "metadata": {},
     "output_type": "display_data"
    }
   ],
   "source": [
    "# Define the classifiers and their corresponding accuracies\n",
    "classifiers = [\"Linear SVM\", \"Logistic Regression\", \"XGBoost\", \"Random Forest\"]\n",
    "tfidf_accuracies = [accuracy_svm, accuracy_lr, accuracy_xgboost, accuracy_rfc]  # Replace with actual accuracy values\n",
    "use_accuracies = [accuracy_svm_use, accuracy_lr_use, accuracy_xgboost_use, accuracy_rfc_use]  # Replace with actual accuracy values\n",
    "tfidf_use_accuracies = [accuracy_svm_tfidf_use, accuracy_lr_tfidf_use, accuracy_xgb_tfidf_use, accuracy_rfc_tfidf_use]  # Replace with actual accuracy values\n",
    "\n",
    "# Create an index for the x-axis\n",
    "x = np.arange(len(classifiers))\n",
    "\n",
    "# Set the width of the bars\n",
    "bar_width = 0.25\n",
    "\n",
    "# Create a grouped bar chart\n",
    "plt.figure(figsize=(10, 6))\n",
    "plt.bar(x - bar_width, tfidf_accuracies, bar_width, label='TF-IDF', color='orange')\n",
    "plt.bar(x, use_accuracies, bar_width, label='USE', color='purple')\n",
    "plt.bar(x + bar_width, tfidf_use_accuracies, bar_width, label='TF-IDF+USE', color='red')\n",
    "\n",
    "# Set labels, title, and legend\n",
    "plt.xlabel('Classifiers')\n",
    "plt.ylabel('Accuracy')\n",
    "plt.title('Classifier Accuracies with Different Embeddings')\n",
    "plt.xticks(x, classifiers)\n",
    "plt.ylim(0, 1.0)\n",
    "plt.legend()\n",
    "\n",
    "# Add accuracy values on top of the bars\n",
    "for i in range(len(classifiers)):\n",
    "    plt.text(x[i] - bar_width, tfidf_accuracies[i] + 0.02, f\"{tfidf_accuracies[i]:.2f}\", ha='center')\n",
    "    plt.text(x[i], use_accuracies[i] + 0.02, f\"{use_accuracies[i]:.2f}\", ha='center')\n",
    "    plt.text(x[i] + bar_width, tfidf_use_accuracies[i] + 0.02, f\"{tfidf_use_accuracies[i]:.2f}\", ha='center')\n",
    "\n",
    "\n",
    "# Display the plot\n",
    "plt.tight_layout()\n",
    "plt.show()\n"
   ]
  },
  {
   "cell_type": "markdown",
   "id": "4abcd9d7-6bd7-4437-affb-b5fc9da3c16c",
   "metadata": {},
   "source": [
    "#### Conclusion: If you see above visualization, as compared to TF-IDF embedding, USE as well as TF-IDF+USE embeddings works better for sentiment analysis on IMDB dataset with different classifiers"
   ]
  },
  {
   "cell_type": "code",
   "execution_count": null,
   "id": "c49df456-a282-40c4-ba25-34d7c2c6e358",
   "metadata": {},
   "outputs": [],
   "source": []
  }
 ],
 "metadata": {
  "kernelspec": {
   "display_name": "Python 3 (ipykernel)",
   "language": "python",
   "name": "python3"
  },
  "language_info": {
   "codemirror_mode": {
    "name": "ipython",
    "version": 3
   },
   "file_extension": ".py",
   "mimetype": "text/x-python",
   "name": "python",
   "nbconvert_exporter": "python",
   "pygments_lexer": "ipython3",
   "version": "3.12.4"
  }
 },
 "nbformat": 4,
 "nbformat_minor": 5
}
